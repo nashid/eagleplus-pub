{
 "cells": [
  {
   "cell_type": "code",
   "execution_count": 9,
   "metadata": {},
   "outputs": [],
   "source": [
    "import sys\n",
    "sys.path.insert(0,'..')\n",
    "\n",
    "from bs4 import BeautifulSoup\n",
    "import yaml\n",
    "import re\n",
    "from parse_utils import *\n",
    "from yaml_file_cls import yaml_file\n",
    "import pprint"
   ]
  },
  {
   "cell_type": "code",
   "execution_count": 10,
   "metadata": {},
   "outputs": [],
   "source": [
    "url = 'https://mxnet.apache.org/versions/1.7/api/python/docs/api/'\n",
    "init_offset = 'index.html'\n",
    "content = parse_html(url+init_offset, class_ = 'toctree-l1 current')\n",
    "offsets = re.findall(r'href=\\\"(.*?)\\\"', str(content[0].find_all('li')))"
   ]
  },
  {
   "cell_type": "code",
   "execution_count": 11,
   "metadata": {},
   "outputs": [],
   "source": [
    "def parse_html(url, class_=None, text=None):\n",
    "    req = requests.get(url)\n",
    "    soup = BeautifulSoup(req.text, 'lxml')\n",
    "    if class_!=None:\n",
    "        return soup.find_all(class_=class_)\n",
    "    elif text != None:\n",
    "        return soup.find_all(text)"
   ]
  },
  {
   "cell_type": "code",
   "execution_count": 12,
   "metadata": {
    "scrolled": false
   },
   "outputs": [],
   "source": [
    "nn_offset = 'gluon/nn/index.html'\n",
    "rnn_offset = 'gluon/rnn/index.html'"
   ]
  },
  {
   "cell_type": "code",
   "execution_count": 50,
   "metadata": {},
   "outputs": [],
   "source": [
    "tmp_url = url+rnn_offset"
   ]
  },
  {
   "cell_type": "code",
   "execution_count": 51,
   "metadata": {},
   "outputs": [],
   "source": [
    "func_sect = parse_html(tmp_url, class_ = 'section')"
   ]
  },
  {
   "cell_type": "code",
   "execution_count": 52,
   "metadata": {},
   "outputs": [],
   "source": [
    "func_list_pat = r'<p><strong>Classes</strong></p><table class=\"longtable docutils align-default\">(.*?)</table>'\n",
    "func_element_pat = r'<tr class=\"row-(odd|even)\">(.*?)</tr>'"
   ]
  },
  {
   "cell_type": "code",
   "execution_count": 57,
   "metadata": {},
   "outputs": [
    {
     "name": "stdout",
     "output_type": "stream",
     "text": [
      "https://mxnet.apache.org/versions/1.7/api/python/docs/api/gluon/rnn/index.html: 15 found\n"
     ]
    }
   ],
   "source": [
    "func_list = re.findall(func_list_pat,str(func_sect[0]).replace('\\n', ''))\n",
    "if func_list==[]:\n",
    "    print(\"{}: {} found\".format(tmp_url, 0))\n",
    "    \n",
    "func_elements = []\n",
    "\n",
    "\n",
    "func_elements = re.findall(func_element_pat, func_list[0])\n",
    "\n",
    "print(\"{}: {} found\".format(tmp_url, len(func_elements)))"
   ]
  },
  {
   "cell_type": "code",
   "execution_count": 84,
   "metadata": {},
   "outputs": [],
   "source": [
    "tmp_url = 'https://mxnet.apache.org/versions/1.7.0/api/python/docs/api/gluon/contrib/index.html'\n",
    "func_sect = parse_html(tmp_url, class_ = 'section')"
   ]
  },
  {
   "cell_type": "code",
   "execution_count": 81,
   "metadata": {},
   "outputs": [],
   "source": [
    "func_list_pat = r'<table class=\"longtable docutils align-default\">(.*?)</table>'\n",
    "func_element_pat = r'<tr class=\"row-(odd|even)\">(.*?)</tr>'"
   ]
  },
  {
   "cell_type": "code",
   "execution_count": 85,
   "metadata": {
    "scrolled": true
   },
   "outputs": [
    {
     "name": "stdout",
     "output_type": "stream",
     "text": [
      "1\n",
      "8\n",
      "1\n",
      "11\n",
      "1\n",
      "2\n",
      "1\n",
      "6\n",
      "https://mxnet.apache.org/versions/1.7.0/api/python/docs/api/gluon/contrib/index.html: 31 found\n"
     ]
    }
   ],
   "source": [
    "func_list = re.findall(func_list_pat,str(func_sect[0]).replace('\\n', ''))\n",
    "if func_list==[]:\n",
    "    print(\"{}: {} found\".format(tmp_url, 0))\n",
    "    \n",
    "func_elements = []\n",
    "\n",
    "for fe in func_list:\n",
    "    func_elements += re.findall(func_element_pat, fe)\n",
    "    print(len(re.findall(func_element_pat, fe)))\n",
    "\n",
    "print(\"{}: {} found\".format(tmp_url, len(func_elements)))"
   ]
  },
  {
   "cell_type": "code",
   "execution_count": 86,
   "metadata": {},
   "outputs": [
    {
     "data": {
      "text/plain": [
       "8"
      ]
     },
     "execution_count": 86,
     "metadata": {},
     "output_type": "execute_result"
    }
   ],
   "source": [
    "len(func_list)"
   ]
  },
  {
   "cell_type": "code",
   "execution_count": 71,
   "metadata": {
    "scrolled": false
   },
   "outputs": [
    {
     "data": {
      "text/plain": [
       "'<colgroup><col style=\"width: 10%\"/><col style=\"width: 90%\"/></colgroup><tbody><tr class=\"row-odd\"><td><p><a class=\"reference internal\" href=\"#mxnet.gluon.rnn.RNN\" title=\"mxnet.gluon.rnn.RNN\"><code class=\"xref py py-obj docutils literal notranslate\"><span class=\"pre\">rnn.RNN</span></code></a></p></td><td><p>Applies a multi-layer Elman RNN with <cite>tanh</cite> or <cite>ReLU</cite> non-linearity to an input sequence.</p></td></tr><tr class=\"row-even\"><td><p><a class=\"reference internal\" href=\"#mxnet.gluon.rnn.LSTM\" title=\"mxnet.gluon.rnn.LSTM\"><code class=\"xref py py-obj docutils literal notranslate\"><span class=\"pre\">rnn.LSTM</span></code></a></p></td><td><p>Applies a multi-layer long short-term memory (LSTM) RNN to an input sequence.</p></td></tr><tr class=\"row-odd\"><td><p><a class=\"reference internal\" href=\"#mxnet.gluon.rnn.GRU\" title=\"mxnet.gluon.rnn.GRU\"><code class=\"xref py py-obj docutils literal notranslate\"><span class=\"pre\">rnn.GRU</span></code></a></p></td><td><p>Applies a multi-layer gated recurrent unit (GRU) RNN to an input sequence.</p></td></tr></tbody>'"
      ]
     },
     "execution_count": 71,
     "metadata": {},
     "output_type": "execute_result"
    }
   ],
   "source": [
    "func_list[2]"
   ]
  },
  {
   "cell_type": "code",
   "execution_count": null,
   "metadata": {},
   "outputs": [],
   "source": []
  },
  {
   "cell_type": "code",
   "execution_count": 24,
   "metadata": {},
   "outputs": [],
   "source": [
    "import pandas as pd"
   ]
  },
  {
   "cell_type": "code",
   "execution_count": 62,
   "metadata": {
    "scrolled": false
   },
   "outputs": [],
   "source": [
    "tables = pd.read_html(tmp_url)"
   ]
  },
  {
   "cell_type": "code",
   "execution_count": 63,
   "metadata": {},
   "outputs": [
    {
     "data": {
      "text/plain": [
       "[                     0                               1\n",
       " 0  mxnet.gluon.contrib  Contrib neural network module.,\n",
       "                   0                                                  1\n",
       " 0        Concurrent                         Lays Block s concurrently.\n",
       " 1  HybridConcurrent                   Lays HybridBlock s concurrently.\n",
       " 2          Identity      Block that passes through the input directly.\n",
       " 3   SparseEmbedding  Turns non-negative integers (indexes/tokens) i...\n",
       " 4     SyncBatchNorm  Cross-GPU Synchronized Batch normalization (Sy...\n",
       " 5    PixelShuffle1D  Pixel-shuffle layer for upsampling in 1 dimens...\n",
       " 6    PixelShuffle2D  Pixel-shuffle layer for upsampling in 2 dimens...\n",
       " 7    PixelShuffle3D  Pixel-shuffle layer for upsampling in 3 dimens...,\n",
       "                        0                                            1\n",
       " 0  DeformableConvolution  2-D Deformable Convolution v_1 (Dai, 2017).,\n",
       "                          0                                                  1\n",
       " 0   VariationalDropoutCell          Applies Variational Dropout on base cell.\n",
       " 1            Conv1DRNNCell                         1D Convolutional RNN cell.\n",
       " 2            Conv2DRNNCell                         2D Convolutional RNN cell.\n",
       " 3            Conv3DRNNCell                         3D Convolutional RNN cells\n",
       " 4           Conv1DLSTMCell                1D Convolutional LSTM network cell.\n",
       " 5           Conv2DLSTMCell                2D Convolutional LSTM network cell.\n",
       " 6           Conv3DLSTMCell                3D Convolutional LSTM network cell.\n",
       " 7            Conv1DGRUCell  1D Convolutional Gated Rectified Unit (GRU) ne...\n",
       " 8            Conv2DGRUCell  2D Convolutional Gated Rectified Unit (GRU) ne...\n",
       " 9            Conv3DGRUCell  3D Convolutional Gated Rectified Unit (GRU) ne...\n",
       " 10               LSTMPCell  Long-Short Term Memory Projected (LSTMP) netwo...,\n",
       "                  0                                                  1\n",
       " 0  IntervalSampler  Samples elements from [0, length) at fixed int...,\n",
       "              0                                                  1\n",
       " 0    WikiText2  WikiText-2 word-level dataset for language mod...\n",
       " 1  WikiText103  WikiText-103 word-level dataset for language m...,\n",
       "            0                                        1\n",
       " 0  Estimator  Estimator Class for easy model training,\n",
       "                       0                                                  1\n",
       " 0       StoppingHandler  Stop conditions to stop training Stop training...\n",
       " 1         MetricHandler  Metric Handler that update metric values at ba...\n",
       " 2     ValidationHandler  Validation Handler that evaluate model on vali...\n",
       " 3        LoggingHandler  Basic Logging Handler that applies to every Gl...\n",
       " 4     CheckpointHandler            Save the model after user define period\n",
       " 5  EarlyStoppingHandler  Early stop training if monitored value is not ...]"
      ]
     },
     "execution_count": 63,
     "metadata": {},
     "output_type": "execute_result"
    }
   ],
   "source": [
    "\n",
    "tables"
   ]
  },
  {
   "cell_type": "code",
   "execution_count": 30,
   "metadata": {},
   "outputs": [],
   "source": [
    "a = [1,2,3,4,5]"
   ]
  },
  {
   "cell_type": "code",
   "execution_count": 31,
   "metadata": {},
   "outputs": [
    {
     "data": {
      "text/plain": [
       "[2, 3]"
      ]
     },
     "execution_count": 31,
     "metadata": {},
     "output_type": "execute_result"
    }
   ],
   "source": [
    "a[1:3]"
   ]
  },
  {
   "cell_type": "code",
   "execution_count": 87,
   "metadata": {},
   "outputs": [],
   "source": [
    "url = 'https://mxnet.apache.org/versions/1.7.0/api/python/docs/api/'\n",
    "init_offset = 'index.html'\n",
    "content = parse_html(url+init_offset, class_ = 'toctree-l1 current')\n",
    "offsets = re.findall(r'href=\\\"(.*?)\\\"', str(content[0].find_all('li')))"
   ]
  },
  {
   "cell_type": "code",
   "execution_count": 89,
   "metadata": {},
   "outputs": [
    {
     "ename": "FileNotFoundError",
     "evalue": "[Errno 2] No such file or directory: ''",
     "output_type": "error",
     "traceback": [
      "\u001b[0;31m---------------------------------------------------------------------------\u001b[0m",
      "\u001b[0;31mFileNotFoundError\u001b[0m                         Traceback (most recent call last)",
      "\u001b[0;32m<ipython-input-89-638669e9ee07>\u001b[0m in \u001b[0;36m<module>\u001b[0;34m()\u001b[0m\n\u001b[1;32m      1\u001b[0m \u001b[0msoup_path\u001b[0m \u001b[0;34m=\u001b[0m \u001b[0;34m''\u001b[0m\u001b[0;34m\u001b[0m\u001b[0m\n\u001b[0;32m----> 2\u001b[0;31m \u001b[0msoup\u001b[0m \u001b[0;34m=\u001b[0m \u001b[0mread_soup\u001b[0m\u001b[0;34m(\u001b[0m\u001b[0msoup_path\u001b[0m\u001b[0;34m)\u001b[0m\u001b[0;34m\u001b[0m\u001b[0m\n\u001b[0m",
      "\u001b[0;32m~/Desktop/deepflaw/exp2/code/dl-fuzzer/doc_analysis/collect_doc/parse_utils.py\u001b[0m in \u001b[0;36mread_soup\u001b[0;34m(path)\u001b[0m\n\u001b[1;32m    110\u001b[0m \u001b[0;34m\u001b[0m\u001b[0m\n\u001b[1;32m    111\u001b[0m \u001b[0;32mdef\u001b[0m \u001b[0mread_soup\u001b[0m\u001b[0;34m(\u001b[0m\u001b[0mpath\u001b[0m\u001b[0;34m)\u001b[0m\u001b[0;34m:\u001b[0m\u001b[0;34m\u001b[0m\u001b[0m\n\u001b[0;32m--> 112\u001b[0;31m     \u001b[0;32mwith\u001b[0m \u001b[0mopen\u001b[0m\u001b[0;34m(\u001b[0m\u001b[0mpath\u001b[0m\u001b[0;34m)\u001b[0m \u001b[0;32mas\u001b[0m \u001b[0mf\u001b[0m\u001b[0;34m:\u001b[0m\u001b[0;34m\u001b[0m\u001b[0m\n\u001b[0m\u001b[1;32m    113\u001b[0m         \u001b[0msoup\u001b[0m \u001b[0;34m=\u001b[0m \u001b[0mBeautifulSoup\u001b[0m\u001b[0;34m(\u001b[0m\u001b[0mf\u001b[0m\u001b[0;34m.\u001b[0m\u001b[0mread\u001b[0m\u001b[0;34m(\u001b[0m\u001b[0;34m)\u001b[0m\u001b[0;34m,\u001b[0m \u001b[0mfeatures\u001b[0m\u001b[0;34m=\u001b[0m\u001b[0;34m\"lxml\"\u001b[0m\u001b[0;34m)\u001b[0m\u001b[0;34m\u001b[0m\u001b[0m\n\u001b[1;32m    114\u001b[0m \u001b[0;34m\u001b[0m\u001b[0m\n",
      "\u001b[0;31mFileNotFoundError\u001b[0m: [Errno 2] No such file or directory: ''"
     ]
    }
   ],
   "source": [
    "soup_path = '/Users/danning/Desktop/deepflaw/web_source/mx1.7_source/gluon-rnn.html'\n",
    "soup = read_soup(soup_path)"
   ]
  },
  {
   "cell_type": "code",
   "execution_count": 88,
   "metadata": {
    "scrolled": false
   },
   "outputs": [
    {
     "data": {
      "text/plain": [
       "['ndarray/index.html',\n",
       " 'ndarray/ndarray.html',\n",
       " 'ndarray/contrib/index.html',\n",
       " 'ndarray/image/index.html',\n",
       " 'ndarray/linalg/index.html',\n",
       " 'ndarray/op/index.html',\n",
       " 'ndarray/random/index.html',\n",
       " 'ndarray/register/index.html',\n",
       " 'ndarray/sparse/index.html',\n",
       " 'ndarray/utils/index.html',\n",
       " 'ndarray/ndarray.html',\n",
       " 'ndarray/contrib/index.html',\n",
       " 'ndarray/image/index.html',\n",
       " 'ndarray/linalg/index.html',\n",
       " 'ndarray/op/index.html',\n",
       " 'ndarray/random/index.html',\n",
       " 'ndarray/register/index.html',\n",
       " 'ndarray/sparse/index.html',\n",
       " 'ndarray/utils/index.html',\n",
       " 'gluon/index.html',\n",
       " 'gluon/block.html',\n",
       " 'gluon/hybrid_block.html',\n",
       " 'gluon/symbol_block.html',\n",
       " 'gluon/constant.html',\n",
       " 'gluon/parameter.html',\n",
       " 'gluon/parameter_dict.html',\n",
       " 'gluon/trainer.html',\n",
       " 'gluon/contrib/index.html',\n",
       " 'gluon/data/index.html',\n",
       " 'gluon/data/vision/index.html',\n",
       " 'gluon/data/vision/datasets/index.html',\n",
       " 'gluon/data/vision/transforms/index.html',\n",
       " 'gluon/loss/index.html',\n",
       " 'gluon/model_zoo/index.html',\n",
       " 'gluon/nn/index.html',\n",
       " 'gluon/rnn/index.html',\n",
       " 'gluon/utils/index.html',\n",
       " 'gluon/block.html',\n",
       " 'gluon/hybrid_block.html',\n",
       " 'gluon/symbol_block.html',\n",
       " 'gluon/constant.html',\n",
       " 'gluon/parameter.html',\n",
       " 'gluon/parameter_dict.html',\n",
       " 'gluon/trainer.html',\n",
       " 'gluon/contrib/index.html',\n",
       " 'gluon/data/index.html',\n",
       " 'gluon/data/vision/index.html',\n",
       " 'gluon/data/vision/datasets/index.html',\n",
       " 'gluon/data/vision/transforms/index.html',\n",
       " 'gluon/data/vision/index.html',\n",
       " 'gluon/data/vision/datasets/index.html',\n",
       " 'gluon/data/vision/transforms/index.html',\n",
       " 'gluon/data/vision/datasets/index.html',\n",
       " 'gluon/data/vision/transforms/index.html',\n",
       " 'gluon/loss/index.html',\n",
       " 'gluon/model_zoo/index.html',\n",
       " 'gluon/nn/index.html',\n",
       " 'gluon/rnn/index.html',\n",
       " 'gluon/utils/index.html',\n",
       " 'autograd/index.html',\n",
       " 'initializer/index.html',\n",
       " 'optimizer/index.html',\n",
       " 'lr_scheduler/index.html',\n",
       " 'metric/index.html',\n",
       " 'kvstore/index.html',\n",
       " 'symbol/index.html',\n",
       " 'symbol/symbol.html',\n",
       " 'symbol/contrib/index.html',\n",
       " 'symbol/image/index.html',\n",
       " 'symbol/linalg/index.html',\n",
       " 'symbol/op/index.html',\n",
       " 'symbol/random/index.html',\n",
       " 'symbol/register/index.html',\n",
       " 'symbol/sparse/index.html',\n",
       " 'symbol/symbol.html',\n",
       " 'symbol/contrib/index.html',\n",
       " 'symbol/image/index.html',\n",
       " 'symbol/linalg/index.html',\n",
       " 'symbol/op/index.html',\n",
       " 'symbol/random/index.html',\n",
       " 'symbol/register/index.html',\n",
       " 'symbol/sparse/index.html',\n",
       " 'module/index.html',\n",
       " 'contrib/index.html',\n",
       " 'contrib/autograd/index.html',\n",
       " 'contrib/io/index.html',\n",
       " 'contrib/ndarray/index.html',\n",
       " 'contrib/onnx/index.html',\n",
       " 'contrib/quantization/index.html',\n",
       " 'contrib/symbol/index.html',\n",
       " 'contrib/tensorboard/index.html',\n",
       " 'contrib/tensorrt/index.html',\n",
       " 'contrib/text/index.html',\n",
       " 'contrib/autograd/index.html',\n",
       " 'contrib/io/index.html',\n",
       " 'contrib/ndarray/index.html',\n",
       " 'contrib/onnx/index.html',\n",
       " 'contrib/quantization/index.html',\n",
       " 'contrib/symbol/index.html',\n",
       " 'contrib/tensorboard/index.html',\n",
       " 'contrib/tensorrt/index.html',\n",
       " 'contrib/text/index.html',\n",
       " 'mxnet/index.html',\n",
       " 'mxnet/attribute/index.html',\n",
       " 'mxnet/base/index.html',\n",
       " 'mxnet/callback/index.html',\n",
       " 'mxnet/context/index.html',\n",
       " 'mxnet/engine/index.html',\n",
       " 'mxnet/executor/index.html',\n",
       " 'mxnet/executor_manager/index.html',\n",
       " 'mxnet/image/index.html',\n",
       " 'mxnet/io/index.html',\n",
       " 'mxnet/kvstore_server/index.html',\n",
       " 'mxnet/libinfo/index.html',\n",
       " 'mxnet/log/index.html',\n",
       " 'mxnet/model/index.html',\n",
       " 'mxnet/monitor/index.html',\n",
       " 'mxnet/name/index.html',\n",
       " 'mxnet/notebook/index.html',\n",
       " 'mxnet/operator/index.html',\n",
       " 'mxnet/profiler/index.html',\n",
       " 'mxnet/random/index.html',\n",
       " 'mxnet/recordio/index.html',\n",
       " 'mxnet/registry/index.html',\n",
       " 'mxnet/rtc/index.html',\n",
       " 'mxnet/runtime/index.html',\n",
       " 'mxnet/test_utils/index.html',\n",
       " 'mxnet/torch/index.html',\n",
       " 'mxnet/util/index.html',\n",
       " 'mxnet/visualization/index.html',\n",
       " 'mxnet/attribute/index.html',\n",
       " 'mxnet/base/index.html',\n",
       " 'mxnet/callback/index.html',\n",
       " 'mxnet/context/index.html',\n",
       " 'mxnet/engine/index.html',\n",
       " 'mxnet/executor/index.html',\n",
       " 'mxnet/executor_manager/index.html',\n",
       " 'mxnet/image/index.html',\n",
       " 'mxnet/io/index.html',\n",
       " 'mxnet/kvstore_server/index.html',\n",
       " 'mxnet/libinfo/index.html',\n",
       " 'mxnet/log/index.html',\n",
       " 'mxnet/model/index.html',\n",
       " 'mxnet/monitor/index.html',\n",
       " 'mxnet/name/index.html',\n",
       " 'mxnet/notebook/index.html',\n",
       " 'mxnet/operator/index.html',\n",
       " 'mxnet/profiler/index.html',\n",
       " 'mxnet/random/index.html',\n",
       " 'mxnet/recordio/index.html',\n",
       " 'mxnet/registry/index.html',\n",
       " 'mxnet/rtc/index.html',\n",
       " 'mxnet/runtime/index.html',\n",
       " 'mxnet/test_utils/index.html',\n",
       " 'mxnet/torch/index.html',\n",
       " 'mxnet/util/index.html',\n",
       " 'mxnet/visualization/index.html']"
      ]
     },
     "execution_count": 88,
     "metadata": {},
     "output_type": "execute_result"
    }
   ],
   "source": [
    "api_class = soup.find_all('dl',{'class':'class'})"
   ]
  },
  {
   "cell_type": "code",
   "execution_count": null,
   "metadata": {},
   "outputs": [],
   "source": []
  }
 ],
 "metadata": {
  "kernelspec": {
   "display_name": "Python 3",
   "language": "python",
   "name": "python3"
  },
  "language_info": {
   "codemirror_mode": {
    "name": "ipython",
    "version": 3
   },
   "file_extension": ".py",
   "mimetype": "text/x-python",
   "name": "python",
   "nbconvert_exporter": "python",
   "pygments_lexer": "ipython3",
   "version": "3.6.4"
  }
 },
 "nbformat": 4,
 "nbformat_minor": 4
}
