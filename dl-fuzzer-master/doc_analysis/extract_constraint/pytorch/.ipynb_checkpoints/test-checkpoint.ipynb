{
 "cells": [
  {
   "cell_type": "code",
   "execution_count": 1,
   "metadata": {},
   "outputs": [],
   "source": [
    "import sys\n",
    "sys.path.insert(0,'..')\n",
    "from extract_utils import *"
   ]
  },
  {
   "cell_type": "code",
   "execution_count": 10,
   "metadata": {},
   "outputs": [],
   "source": [
    "folder = '/Users/danning/Desktop/deepflaw/DeepFlaw-Code/doc_analysis/collect_doc/pytorch/doc1.5_parsed/'\n",
    "extract_folder = '/Users/danning/Desktop/deepflaw/DeepFlaw-Code/doc_analysis/extract_constraint/pytorch/constraint_1/changed/'"
   ]
  },
  {
   "cell_type": "code",
   "execution_count": 11,
   "metadata": {},
   "outputs": [],
   "source": [
    "files = get_file_list(folder)\n",
    "extracted_files = get_file_list(extract_folder)"
   ]
  },
  {
   "cell_type": "code",
   "execution_count": 16,
   "metadata": {},
   "outputs": [
    {
     "name": "stdout",
     "output_type": "stream",
     "text": [
      "[]\n",
      "[]\n",
      "[]\n",
      "[]\n",
      "[]\n",
      "[]\n",
      "[]\n",
      "[]\n",
      "[]\n",
      "[]\n",
      "[]\n",
      "[]\n",
      "[]\n",
      "[]\n",
      "[]\n",
      "[]\n",
      "[]\n",
      "[]\n",
      "[]\n",
      "[]\n",
      "[]\n",
      "[]\n",
      "[]\n",
      "[]\n",
      "[]\n",
      "[]\n",
      "[]\n",
      "[]\n",
      "[]\n",
      "[]\n",
      "[]\n",
      "[]\n",
      "[]\n",
      "[]\n",
      "[]\n",
      "[]\n",
      "[]\n",
      "[]\n",
      "[]\n",
      "[]\n",
      "[]\n",
      "[]\n",
      "[]\n",
      "[]\n",
      "[]\n",
      "[]\n",
      "[]\n",
      "[]\n",
      "[]\n",
      "[]\n",
      "[]\n",
      "[]\n",
      "[]\n",
      "[]\n",
      "[]\n",
      "[]\n",
      "[]\n",
      "[]\n",
      "[]\n",
      "[]\n",
      "[]\n",
      "[]\n",
      "[]\n",
      "[]\n",
      "[]\n",
      "[]\n",
      "[]\n",
      "[]\n",
      "[]\n",
      "[]\n",
      "[]\n",
      "[]\n",
      "[]\n",
      "[]\n",
      "[]\n",
      "[]\n",
      "[]\n",
      "[]\n"
     ]
    }
   ],
   "source": [
    "for f in extracted_files:\n",
    "    info = read_yaml(extract_folder+f)\n",
    "    for arg in info['constraints']:\n",
    "        if info['constraints'][arg].get('doc_dtype', []):\n",
    "            pass\n",
    "            #print('{}  {}  {}  {}'.format(info['constraints'][arg].get('doc_dtype', []), info['constraints'][arg].get('dtype', []), info['constraints'][arg].get('tensor_t', []), info['constraints'][arg].get('structure', [])))\n",
    "        if info['constraints'][arg].get('doc_dtype', []) and (not info['constraints'][arg].get('dtype', [])) and (not info['constraints'][arg].get('tensor_t', [])) and (not info['constraints'][arg].get('structure', [])):\n",
    "            print(info['constraints'][arg].get('doc_dtype', []))\n",
    "#         for dd in info['constraints'][arg].get('doc_dtype', []):\n",
    "#             print(dd.lower())\n",
    "    "
   ]
  },
  {
   "cell_type": "code",
   "execution_count": 5,
   "metadata": {},
   "outputs": [],
   "source": [
    "info = read_yaml(folder+extracted_files[0])"
   ]
  },
  {
   "cell_type": "code",
   "execution_count": 6,
   "metadata": {},
   "outputs": [
    {
     "data": {
      "text/plain": [
       "{'constraints': {'batch_first': {'default': 'False',\n",
       "   'descp': 'output will be in `B x T x *` if True, or in `T x B x *` otherwise',\n",
       "   'doc_dtype': ['bool']},\n",
       "  'padding_value': {'default': '0',\n",
       "   'descp': 'value for padded elements. Default: 0.',\n",
       "   'doc_dtype': ['float']},\n",
       "  'sequences': {'descp': 'list of variable length sequences.',\n",
       "   'doc_dtype': ['list[Tensor]']}},\n",
       " 'inputs': {'optional': ['batch_first', 'padding_value'],\n",
       "  'required': ['sequences']},\n",
       " 'link': 'https://pytorch.org/docs/stable/nn.html#torch.nn.utils.rnn.pad_sequence',\n",
       " 'package': 'pytorch',\n",
       " 'target': 'pad_sequence',\n",
       " 'title': 'torch.nn.utils.rnn.pad_sequence',\n",
       " 'version': '1.5.0'}"
      ]
     },
     "execution_count": 6,
     "metadata": {},
     "output_type": "execute_result"
    }
   ],
   "source": [
    "info"
   ]
  },
  {
   "cell_type": "code",
   "execution_count": 7,
   "metadata": {},
   "outputs": [
    {
     "data": {
      "text/plain": [
       "'torch.nn.utils.rnn.pad_sequence.yaml'"
      ]
     },
     "execution_count": 7,
     "metadata": {},
     "output_type": "execute_result"
    }
   ],
   "source": [
    "extracted_files[0]"
   ]
  },
  {
   "cell_type": "code",
   "execution_count": null,
   "metadata": {},
   "outputs": [],
   "source": []
  }
 ],
 "metadata": {
  "kernelspec": {
   "display_name": "Env:crawler",
   "language": "python",
   "name": "crawler"
  },
  "language_info": {
   "codemirror_mode": {
    "name": "ipython",
    "version": 3
   },
   "file_extension": ".py",
   "mimetype": "text/x-python",
   "name": "python",
   "nbconvert_exporter": "python",
   "pygments_lexer": "ipython3",
   "version": "3.6.9"
  }
 },
 "nbformat": 4,
 "nbformat_minor": 2
}
