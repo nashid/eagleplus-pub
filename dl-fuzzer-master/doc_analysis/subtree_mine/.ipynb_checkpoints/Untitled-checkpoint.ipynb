{
 "cells": [
  {
   "cell_type": "code",
   "execution_count": 5,
   "metadata": {},
   "outputs": [],
   "source": [
    "import os\n",
    "from util import *\n",
    "from mlxtend.preprocessing import TransactionEncoder\n",
    "import pandas as pd\n",
    "\n",
    "from nltk.parse.corenlp import CoreNLPDependencyParser\n",
    "parser = CoreNLPDependencyParser(url='http://localhost:9000')\n",
    "\n",
    "def load_data4mining(sent_set):\n",
    "    # load data for mining\n",
    "    word_set = []  # 2-D list of all words in each sentences\n",
    "    for sent in sent_set:\n",
    "        descp_ls = list(filter(lambda s: (len(s)>0 and not s.isspace()), sent.split())) \n",
    "        word_set.append(descp_ls)\n",
    "    return word_set\n",
    "\n",
    "\n",
    "def get_encoded_df(dataset):\n",
    "    # takes 2D list as input\n",
    "    te = TransactionEncoder()\n",
    "    te_ary = te.fit(dataset).transform(dataset)\n",
    "    df = pd.DataFrame(te_ary, columns=te.columns_)\n",
    "    return df\n",
    "\n",
    "def get_word_map(df):\n",
    "    word_map = {} # word->idx\n",
    "    word_map_inverse = {} # idx-> word\n",
    "    columns = list(df) \n",
    "    \n",
    "    for i, word in enumerate(columns): \n",
    "        word_map[word] =i\n",
    "        word_map_inverse[i]=word\n",
    "\n",
    "    return word_map, word_map_inverse\n",
    "\n",
    "def tree2horizontal(root):\n",
    "    # input: nltk.tree.tree\n",
    "    if isinstance(root, str):\n",
    "        ret = [root]\n",
    "    else:\n",
    "        ret = [root.label()]\n",
    "        for child in root:\n",
    "            ret += tree2horizontal(child)\n",
    "    \n",
    "    ret.append('-1')\n",
    "    return ret\n",
    "\n",
    "\n",
    "def encode_horizontal_tree(idx, horizontal_format, word_map):\n",
    "    ret = [str(idx), str(idx), str(len(horizontal_format))]\n",
    "    for node in horizontal_format:\n",
    "        if node=='-1':\n",
    "            ret.append('-1')\n",
    "        else:\n",
    "            ret.append(str(word_map[node]))\n",
    "    return ' '.join(ret)\n",
    "\n",
    "def parse_subtree(line):\n",
    "    parse = re.search(r'(.*?)\\s\\((.*?)\\)', line)\n",
    "    subtree = parse.group(1)\n",
    "    freq = parse.group(2)\n",
    "    return ' '.join(subtree.split()), int(freq)\n",
    "\n",
    "def decode_subtree(subtree, inverse_word_map):\n",
    "    # subtree: string\n",
    "    ret = []\n",
    "    for node in subtree.split():\n",
    "        if node=='-1':\n",
    "            ret.append(node)\n",
    "        else:\n",
    "            ret.append(inverse_word_map[int(node)])\n",
    "\n",
    "    return ' '.join(ret)\n"
   ]
  },
  {
   "cell_type": "code",
   "execution_count": 6,
   "metadata": {},
   "outputs": [],
   "source": [
    "sent = 'if mask_zero is set to constant_bool as a consequence index constant_num cannot be used in the vocabulary bstr'.lower()\n",
    "parse, = parser.raw_parse(sent)\n",
    "parsing_tree = parse.tree()\n",
    "horizontal_format = tree2horizontal(parsing_tree)\n",
    "#horizontal_format = [x.lower() for x in horizontal_format]\n",
    "# here horizontal_format is a list of str.\n"
   ]
  },
  {
   "cell_type": "code",
   "execution_count": 8,
   "metadata": {},
   "outputs": [
    {
     "data": {
      "text/plain": [
       "'if mask_zero is set to constant_bool as a consequence index constant_num can not be used in the vocabulary bstr'"
      ]
     },
     "execution_count": 8,
     "metadata": {},
     "output_type": "execute_result"
    }
   ],
   "source": [
    "re.sub(r'cannot', 'can not', sent, flags=re.IGNORECASE)"
   ]
  },
  {
   "cell_type": "code",
   "execution_count": 7,
   "metadata": {},
   "outputs": [
    {
     "data": {
      "image/png": "[encoded data removed]",
      "text/plain": [
       "Tree('set', ['if', 'mask_zero', 'is', Tree('constant_bool', ['to', Tree('used', ['as', Tree('constant_num', ['a', 'consequence', 'index']), 'can', 'not', 'be', Tree('bstr', ['in', 'the', 'vocabulary'])])])])"
      ]
     },
     "execution_count": 7,
     "metadata": {},
     "output_type": "execute_result"
    }
   ],
   "source": [
    "parsing_tree"
   ]
  },
  {
   "cell_type": "code",
   "execution_count": 115,
   "metadata": {},
   "outputs": [],
   "source": [
    "wordset = load_data4mining([sent])\n",
    "encoding_df = get_encoded_df(wordset)\n",
    "# word_map: word->idx\n",
    "# word_map_inverse: idx->word\n",
    "word_map, word_map_inverse = get_word_map(encoding_df)\n",
    "encoded_tree = encode_horizontal_tree(0, horizontal_format, word_map)\n",
    "# save_list(dataset, os.path.join(save_path, 'mining_input'))"
   ]
  },
  {
   "cell_type": "code",
   "execution_count": 117,
   "metadata": {},
   "outputs": [
    {
     "data": {
      "text/plain": [
       "'checked if -1 indices constant_bool -1 -1 are -1 make to -1 sure sorted they -1 are -1 order in -1 lexicographic -1 -1 -1 -1 -1 and -1 are that -1 there -1 repeats no -1 -1 -1 -1'"
      ]
     },
     "execution_count": 117,
     "metadata": {},
     "output_type": "execute_result"
    }
   ],
   "source": [
    "' '.join(horizontal_format)"
   ]
  },
  {
   "cell_type": "code",
   "execution_count": 61,
   "metadata": {},
   "outputs": [
    {
     "data": {
      "text/plain": [
       "{'a': 0, 'an': 1, 'd_structure': 2, 'd_type': 3, 'of': 4, 'or': 5}"
      ]
     },
     "execution_count": 61,
     "metadata": {},
     "output_type": "execute_result"
    }
   ],
   "source": [
    "word_map"
   ]
  },
  {
   "cell_type": "code",
   "execution_count": 62,
   "metadata": {},
   "outputs": [
    {
     "data": {
      "text/plain": [
       "{0: 'a', 1: 'an', 2: 'd_structure', 3: 'd_type', 4: 'of', 5: 'or'}"
      ]
     },
     "execution_count": 62,
     "metadata": {},
     "output_type": "execute_result"
    }
   ],
   "source": [
    "word_map_inverse"
   ]
  },
  {
   "cell_type": "code",
   "execution_count": 63,
   "metadata": {},
   "outputs": [
    {
     "data": {
      "text/plain": [
       "'0 0 14 3 1 -1 5 -1 2 0 -1 -1 3 4 -1 -1 -1'"
      ]
     },
     "execution_count": 63,
     "metadata": {},
     "output_type": "execute_result"
    }
   ],
   "source": [
    "encoded_tree"
   ]
  },
  {
   "cell_type": "code",
   "execution_count": 64,
   "metadata": {},
   "outputs": [],
   "source": [
    "save_list([encoded_tree, ''], './TreeMiner/tmp_data')"
   ]
  },
  {
   "cell_type": "code",
   "execution_count": 65,
   "metadata": {},
   "outputs": [],
   "source": [
    "import os"
   ]
  },
  {
   "cell_type": "code",
   "execution_count": 66,
   "metadata": {},
   "outputs": [
    {
     "data": {
      "text/plain": [
       "0"
      ]
     },
     "execution_count": 66,
     "metadata": {},
     "output_type": "execute_result"
    }
   ],
   "source": [
    "os.system('./TreeMiner/treeminer -i ./TreeMiner/tmp_data -S 1 -o -l > ./TreeMiner/tmp_out')"
   ]
  },
  {
   "cell_type": "code",
   "execution_count": 84,
   "metadata": {},
   "outputs": [],
   "source": [
    "def get_all_subtree(sent, horizontal_format):\n",
    "    decoded_subtree_list = []\n",
    "    mining_input_path = './TreeMiner/tmp_data'\n",
    "    mining_output_path  = './TreeMiner/tmp_out'\n",
    "    wordset = load_data4mining([sent])\n",
    "    encoding_df = get_encoded_df(wordset)\n",
    "    # word_map: word->idx\n",
    "    # word_map_inverse: idx->word\n",
    "    word_map, word_map_inverse = get_word_map(encoding_df)\n",
    "    encoded_tree = encode_horizontal_tree(0, horizontal_format, word_map)\n",
    "    save_list([encoded_tree, ''], mining_input_path)\n",
    "    exe_var = os.system('./TreeMiner/treeminer -i ./TreeMiner/tmp_data -S 1 -o -l > %s' % mining_output_path)\n",
    "    assert exe_var == 0\n",
    "\n",
    "\n",
    "    mine_result = read_file(mining_output_path)[3:]\n",
    "    mine_result = mine_result[:-1]\n",
    "    for l in mine_result:\n",
    "        if l.startswith('ITER') or l.startswith('Tree:'):\n",
    "            continue\n",
    "        else:   # frequent subtree with its frequency\n",
    "            subtree, freq = parse_subtree(l)\n",
    "            assert freq==1\n",
    "            decoded_subtree_list.append(decode_subtree(subtree, word_map_inverse))\n",
    "    return decoded_subtree_list"
   ]
  },
  {
   "cell_type": "code",
   "execution_count": 85,
   "metadata": {},
   "outputs": [
    {
     "data": {
      "text/plain": [
       "['value a', 'value d_type', 'value a -1 d_type']"
      ]
     },
     "execution_count": 85,
     "metadata": {},
     "output_type": "execute_result"
    }
   ],
   "source": [
    "get_all_subtree(sent, horizontal_format)"
   ]
  },
  {
   "cell_type": "code",
   "execution_count": 87,
   "metadata": {},
   "outputs": [],
   "source": [
    "import subprocess"
   ]
  },
  {
   "cell_type": "code",
   "execution_count": 102,
   "metadata": {},
   "outputs": [],
   "source": [
    "p = subprocess.Popen(['bash', 'run_treeminer.sh'])\n",
    "try:\n",
    "    p.wait(0.5)\n",
    "except subprocess.TimeoutExpired:\n",
    "    p.kill()"
   ]
  },
  {
   "cell_type": "code",
   "execution_count": 103,
   "metadata": {},
   "outputs": [],
   "source": [
    "mine_result = read_file('./TreeMiner/tmp_out')[3:]"
   ]
  },
  {
   "cell_type": "code",
   "execution_count": 104,
   "metadata": {},
   "outputs": [
    {
     "data": {
      "text/plain": [
       "[]"
      ]
     },
     "execution_count": 104,
     "metadata": {},
     "output_type": "execute_result"
    }
   ],
   "source": [
    "mine_result"
   ]
  },
  {
   "cell_type": "code",
   "execution_count": 105,
   "metadata": {},
   "outputs": [],
   "source": [
    "l = '9 5 15 10 8 -1 -1 0 14 -1 3 2 -1 13 -1 -1 1 -1 7 4 11 -1 13 -1 12 -1 6 -1 -1 15 10 8 -1 -1 0 14 -1 3 2 -1 13 -1 1 -1 7 2 -1 13 -1 4 11 -1 13 -1 12 -1 6 -1 -1 -1 -1 -1 -1 -1 -1 -1 -1 -1'"
   ]
  },
  {
   "cell_type": "code",
   "execution_count": 108,
   "metadata": {},
   "outputs": [
    {
     "data": {
      "text/plain": [
       "68"
      ]
     },
     "execution_count": 108,
     "metadata": {},
     "output_type": "execute_result"
    }
   ],
   "source": [
    "len(l.split())"
   ]
  },
  {
   "cell_type": "code",
   "execution_count": 109,
   "metadata": {
    "scrolled": true
   },
   "outputs": [
    {
     "name": "stdout",
     "output_type": "stream",
     "text": [
      "0: 9\n",
      "1: 5\n",
      "2: 15\n",
      "3: 10\n",
      "4: 8\n",
      "5: -1\n",
      "6: -1\n",
      "7: 0\n",
      "8: 14\n",
      "9: -1\n",
      "10: 3\n",
      "11: 2\n",
      "12: -1\n",
      "13: 13\n",
      "14: -1\n",
      "15: -1\n",
      "16: 1\n",
      "17: -1\n",
      "18: 7\n",
      "19: 4\n",
      "20: 11\n",
      "21: -1\n",
      "22: 13\n",
      "23: -1\n",
      "24: 12\n",
      "25: -1\n",
      "26: 6\n",
      "27: -1\n",
      "28: -1\n",
      "29: 15\n",
      "30: 10\n",
      "31: 8\n",
      "32: -1\n",
      "33: -1\n",
      "34: 0\n",
      "35: 14\n",
      "36: -1\n",
      "37: 3\n",
      "38: 2\n",
      "39: -1\n",
      "40: 13\n",
      "41: -1\n",
      "42: 1\n",
      "43: -1\n",
      "44: 7\n",
      "45: 2\n",
      "46: -1\n",
      "47: 13\n",
      "48: -1\n",
      "49: 4\n",
      "50: 11\n",
      "51: -1\n",
      "52: 13\n",
      "53: -1\n",
      "54: 12\n",
      "55: -1\n",
      "56: 6\n",
      "57: -1\n",
      "58: -1\n",
      "59: -1\n",
      "60: -1\n",
      "61: -1\n",
      "62: -1\n",
      "63: -1\n",
      "64: -1\n",
      "65: -1\n",
      "66: -1\n",
      "67: -1\n"
     ]
    }
   ],
   "source": [
    "ll = l.split()\n",
    "for i in range(len(ll)):\n",
    "    print(\"{}: {}\".format(i, ll[i]))"
   ]
  },
  {
   "cell_type": "code",
   "execution_count": null,
   "metadata": {},
   "outputs": [],
   "source": [
    "def is_shape_range_valid(s):\n",
    "    def count_bracket(ss):\n",
    "        return s.count('(') + s.count(')') + s.count('[') + s.count(']')\n",
    "    if count_bracket(ss) >=2:\n",
    "        return False\n",
    "    if s[0] not in ['(', ')', '[', ']'] or s[-1] not in ['(', ')', '[', ']']:\n",
    "        if "
   ]
  },
  {
   "cell_type": "code",
   "execution_count": 3,
   "metadata": {},
   "outputs": [
    {
     "data": {
      "text/plain": [
       "0"
      ]
     },
     "execution_count": 3,
     "metadata": {},
     "output_type": "execute_result"
    }
   ],
   "source": [
    "'aaa'.count('abc')"
   ]
  },
  {
   "cell_type": "code",
   "execution_count": null,
   "metadata": {},
   "outputs": [],
   "source": []
  }
 ],
 "metadata": {
  "kernelspec": {
   "display_name": "Python 3",
   "language": "python",
   "name": "python3"
  },
  "language_info": {
   "codemirror_mode": {
    "name": "ipython",
    "version": 3
   },
   "file_extension": ".py",
   "mimetype": "text/x-python",
   "name": "python",
   "nbconvert_exporter": "python",
   "pygments_lexer": "ipython3",
   "version": "3.6.9"
  }
 },
 "nbformat": 4,
 "nbformat_minor": 2
}
