{
 "cells": [
  {
   "cell_type": "code",
   "execution_count": 9,
   "metadata": {},
   "outputs": [],
   "source": [
    "import sys\n",
    "sys.path.insert(0,'..')\n",
    "\n",
    "from bs4 import BeautifulSoup\n",
    "import yaml\n",
    "import re\n",
    "from parse_utils import *\n",
    "from yaml_file_cls import yaml_file\n",
    "import pprint"
   ]
  },
  {
   "cell_type": "code",
   "execution_count": 10,
   "metadata": {},
   "outputs": [],
   "source": [
    "url = 'https://mxnet.apache.org/versions/1.7/api/python/docs/api/'\n",
    "init_offset = 'index.html'\n",
    "content = parse_html(url+init_offset, class_ = 'toctree-l1 current')\n",
    "offsets = re.findall(r'href=\\\"(.*?)\\\"', str(content[0].find_all('li')))"
   ]
  },
  {
   "cell_type": "code",
   "execution_count": 11,
   "metadata": {},
   "outputs": [],
   "source": [
    "def parse_html(url, class_=None, text=None):\n",
    "    req = requests.get(url)\n",
    "    soup = BeautifulSoup(req.text, 'lxml')\n",
    "    if class_!=None:\n",
    "        return soup.find_all(class_=class_)\n",
    "    elif text != None:\n",
    "        return soup.find_all(text)"
   ]
  },
  {
   "cell_type": "code",
   "execution_count": 12,
   "metadata": {
    "scrolled": false
   },
   "outputs": [],
   "source": [
    "nn_offset = 'gluon/nn/index.html'\n",
    "rnn_offset = 'gluon/rnn/index.html'"
   ]
  },
  {
   "cell_type": "code",
   "execution_count": 50,
   "metadata": {},
   "outputs": [],
   "source": [
    "tmp_url = url+rnn_offset"
   ]
  },
  {
   "cell_type": "code",
   "execution_count": 51,
   "metadata": {},
   "outputs": [],
   "source": [
    "func_sect = parse_html(tmp_url, class_ = 'section')"
   ]
  },
  {
   "cell_type": "code",
   "execution_count": 52,
   "metadata": {},
   "outputs": [],
   "source": [
    "func_list_pat = r'<p><strong>Classes</strong></p><table class=\"longtable docutils align-default\">(.*?)</table>'\n",
    "func_element_pat = r'<tr class=\"row-(odd|even)\">(.*?)</tr>'"
   ]
  },
  {
   "cell_type": "code",
   "execution_count": 57,
   "metadata": {},
   "outputs": [
    {
     "name": "stdout",
     "output_type": "stream",
     "text": [
      "https://mxnet.apache.org/versions/1.7/api/python/docs/api/gluon/rnn/index.html: 15 found\n"
     ]
    }
   ],
   "source": [
    "func_list = re.findall(func_list_pat,str(func_sect[0]).replace('\\n', ''))\n",
    "if func_list==[]:\n",
    "    print(\"{}: {} found\".format(tmp_url, 0))\n",
    "    \n",
    "func_elements = []\n",
    "\n",
    "\n",
    "func_elements = re.findall(func_element_pat, func_list[0])\n",
    "\n",
    "print(\"{}: {} found\".format(tmp_url, len(func_elements)))"
   ]
  },
  {
   "cell_type": "code",
   "execution_count": 104,
   "metadata": {},
   "outputs": [],
   "source": [
    "tmp_url = 'https://mxnet.apache.org/versions/1.7.0/api/python/docs/api/gluon/nn/index.html'\n",
    "func_sect = parse_html(tmp_url, class_ = 'section')"
   ]
  },
  {
   "cell_type": "code",
   "execution_count": 107,
   "metadata": {},
   "outputs": [],
   "source": [
    "func_list_pat = r'<p><strong>Classes</strong></p><table class=\"longtable docutils align-default\">(.*?)</table>'\n",
    "func_element_pat = r'<tr class=\"row-(odd|even)\">(.*?)</tr>'"
   ]
  },
  {
   "cell_type": "code",
   "execution_count": 112,
   "metadata": {
    "scrolled": true
   },
   "outputs": [
    {
     "name": "stdout",
     "output_type": "stream",
     "text": [
      "41\n",
      "https://mxnet.apache.org/versions/1.7.0/api/python/docs/api/gluon/nn/index.html: 41 found\n"
     ]
    }
   ],
   "source": [
    "func_list = re.findall(func_list_pat,str(func_sect[0]).replace('\\n', ''))\n",
    "if func_list==[]:\n",
    "    print(\"{}: {} found\".format(tmp_url, 0))\n",
    "    \n",
    "func_elements = []\n",
    "\n",
    "for fe in func_list[0:1]:\n",
    "    func_elements += re.findall(func_element_pat, fe)\n",
    "    print(len(re.findall(func_element_pat, fe)))\n",
    "\n",
    "print(\"{}: {} found\".format(tmp_url, len(func_elements)))"
   ]
  },
  {
   "cell_type": "code",
   "execution_count": 109,
   "metadata": {},
   "outputs": [
    {
     "data": {
      "text/plain": [
       "[('odd',\n",
       "  '<td><p><a class=\"reference internal\" href=\"#mxnet.gluon.nn.Activation\" title=\"mxnet.gluon.nn.Activation\"><code class=\"xref py py-obj docutils literal notranslate\"><span class=\"pre\">Activation</span></code></a>(activation,Â\\xa0**kwargs)</p></td><td><p>Applies an activation function to input.</p></td>'),\n",
       " ('even',\n",
       "  '<td><p><a class=\"reference internal\" href=\"#mxnet.gluon.nn.AvgPool1D\" title=\"mxnet.gluon.nn.AvgPool1D\"><code class=\"xref py py-obj docutils literal notranslate\"><span class=\"pre\">AvgPool1D</span></code></a>([pool_size,Â\\xa0strides,Â\\xa0padding,Â\\xa0â\\x80¦])</p></td><td><p>Average pooling operation for temporal data.</p></td>'),\n",
       " ('odd',\n",
       "  '<td><p><a class=\"reference internal\" href=\"#mxnet.gluon.nn.AvgPool2D\" title=\"mxnet.gluon.nn.AvgPool2D\"><code class=\"xref py py-obj docutils literal notranslate\"><span class=\"pre\">AvgPool2D</span></code></a>([pool_size,Â\\xa0strides,Â\\xa0padding,Â\\xa0â\\x80¦])</p></td><td><p>Average pooling operation for spatial data.</p></td>'),\n",
       " ('even',\n",
       "  '<td><p><a class=\"reference internal\" href=\"#mxnet.gluon.nn.AvgPool3D\" title=\"mxnet.gluon.nn.AvgPool3D\"><code class=\"xref py py-obj docutils literal notranslate\"><span class=\"pre\">AvgPool3D</span></code></a>([pool_size,Â\\xa0strides,Â\\xa0padding,Â\\xa0â\\x80¦])</p></td><td><p>Average pooling operation for 3D data (spatial or spatio-temporal).</p></td>'),\n",
       " ('odd',\n",
       "  '<td><p><a class=\"reference internal\" href=\"#mxnet.gluon.nn.BatchNorm\" title=\"mxnet.gluon.nn.BatchNorm\"><code class=\"xref py py-obj docutils literal notranslate\"><span class=\"pre\">BatchNorm</span></code></a>([axis,Â\\xa0momentum,Â\\xa0epsilon,Â\\xa0center,Â\\xa0â\\x80¦])</p></td><td><p>Batch normalization layer (Ioffe and Szegedy, 2014).</p></td>'),\n",
       " ('even',\n",
       "  '<td><p><a class=\"reference internal\" href=\"#mxnet.gluon.nn.Block\" title=\"mxnet.gluon.nn.Block\"><code class=\"xref py py-obj docutils literal notranslate\"><span class=\"pre\">Block</span></code></a>([prefix,Â\\xa0params])</p></td><td><p>Base class for all neural network layers and models.</p></td>'),\n",
       " ('odd',\n",
       "  '<td><p><a class=\"reference internal\" href=\"#mxnet.gluon.nn.Conv1D\" title=\"mxnet.gluon.nn.Conv1D\"><code class=\"xref py py-obj docutils literal notranslate\"><span class=\"pre\">Conv1D</span></code></a>(channels,Â\\xa0kernel_size[,Â\\xa0strides,Â\\xa0â\\x80¦])</p></td><td><p>1D convolution layer (e.g. temporal convolution).</p></td>'),\n",
       " ('even',\n",
       "  '<td><p><a class=\"reference internal\" href=\"#mxnet.gluon.nn.Conv1DTranspose\" title=\"mxnet.gluon.nn.Conv1DTranspose\"><code class=\"xref py py-obj docutils literal notranslate\"><span class=\"pre\">Conv1DTranspose</span></code></a>(channels,Â\\xa0kernel_size[,Â\\xa0â\\x80¦])</p></td><td><p>Transposed 1D convolution layer (sometimes called Deconvolution).</p></td>'),\n",
       " ('odd',\n",
       "  '<td><p><a class=\"reference internal\" href=\"#mxnet.gluon.nn.Conv2D\" title=\"mxnet.gluon.nn.Conv2D\"><code class=\"xref py py-obj docutils literal notranslate\"><span class=\"pre\">Conv2D</span></code></a>(channels,Â\\xa0kernel_size[,Â\\xa0strides,Â\\xa0â\\x80¦])</p></td><td><p>2D convolution layer (e.g. spatial convolution over images).</p></td>'),\n",
       " ('even',\n",
       "  '<td><p><a class=\"reference internal\" href=\"#mxnet.gluon.nn.Conv2DTranspose\" title=\"mxnet.gluon.nn.Conv2DTranspose\"><code class=\"xref py py-obj docutils literal notranslate\"><span class=\"pre\">Conv2DTranspose</span></code></a>(channels,Â\\xa0kernel_size[,Â\\xa0â\\x80¦])</p></td><td><p>Transposed 2D convolution layer (sometimes called Deconvolution).</p></td>'),\n",
       " ('odd',\n",
       "  '<td><p><a class=\"reference internal\" href=\"#mxnet.gluon.nn.Conv3D\" title=\"mxnet.gluon.nn.Conv3D\"><code class=\"xref py py-obj docutils literal notranslate\"><span class=\"pre\">Conv3D</span></code></a>(channels,Â\\xa0kernel_size[,Â\\xa0strides,Â\\xa0â\\x80¦])</p></td><td><p>3D convolution layer (e.g. spatial convolution over volumes).</p></td>'),\n",
       " ('even',\n",
       "  '<td><p><a class=\"reference internal\" href=\"#mxnet.gluon.nn.Conv3DTranspose\" title=\"mxnet.gluon.nn.Conv3DTranspose\"><code class=\"xref py py-obj docutils literal notranslate\"><span class=\"pre\">Conv3DTranspose</span></code></a>(channels,Â\\xa0kernel_size[,Â\\xa0â\\x80¦])</p></td><td><p>Transposed 3D convolution layer (sometimes called Deconvolution).</p></td>'),\n",
       " ('odd',\n",
       "  '<td><p><a class=\"reference internal\" href=\"#mxnet.gluon.nn.Dense\" title=\"mxnet.gluon.nn.Dense\"><code class=\"xref py py-obj docutils literal notranslate\"><span class=\"pre\">Dense</span></code></a>(units[,Â\\xa0activation,Â\\xa0use_bias,Â\\xa0â\\x80¦])</p></td><td><p>Just your regular densely-connected NN layer.</p></td>'),\n",
       " ('even',\n",
       "  '<td><p><a class=\"reference internal\" href=\"#mxnet.gluon.nn.Dropout\" title=\"mxnet.gluon.nn.Dropout\"><code class=\"xref py py-obj docutils literal notranslate\"><span class=\"pre\">Dropout</span></code></a>(rate[,Â\\xa0axes])</p></td><td><p>Applies Dropout to the input.</p></td>'),\n",
       " ('odd',\n",
       "  '<td><p><a class=\"reference internal\" href=\"#mxnet.gluon.nn.ELU\" title=\"mxnet.gluon.nn.ELU\"><code class=\"xref py py-obj docutils literal notranslate\"><span class=\"pre\">ELU</span></code></a>([alpha])</p></td><td><p>Exponential Linear Unit (ELU)</p></td>'),\n",
       " ('even',\n",
       "  '<td><p><a class=\"reference internal\" href=\"#mxnet.gluon.nn.Embedding\" title=\"mxnet.gluon.nn.Embedding\"><code class=\"xref py py-obj docutils literal notranslate\"><span class=\"pre\">Embedding</span></code></a>(input_dim,Â\\xa0output_dim[,Â\\xa0dtype,Â\\xa0â\\x80¦])</p></td><td><p>Turns non-negative integers (indexes/tokens) into dense vectors of fixed size.</p></td>'),\n",
       " ('odd',\n",
       "  '<td><p><a class=\"reference internal\" href=\"#mxnet.gluon.nn.Flatten\" title=\"mxnet.gluon.nn.Flatten\"><code class=\"xref py py-obj docutils literal notranslate\"><span class=\"pre\">Flatten</span></code></a>(**kwargs)</p></td><td><p>Flattens the input to two dimensional.</p></td>'),\n",
       " ('even',\n",
       "  '<td><p><a class=\"reference internal\" href=\"#mxnet.gluon.nn.GELU\" title=\"mxnet.gluon.nn.GELU\"><code class=\"xref py py-obj docutils literal notranslate\"><span class=\"pre\">GELU</span></code></a>(**kwargs)</p></td><td><p>Gaussian Exponential Linear Unit (GELU)</p></td>'),\n",
       " ('odd',\n",
       "  '<td><p><a class=\"reference internal\" href=\"#mxnet.gluon.nn.GlobalAvgPool1D\" title=\"mxnet.gluon.nn.GlobalAvgPool1D\"><code class=\"xref py py-obj docutils literal notranslate\"><span class=\"pre\">GlobalAvgPool1D</span></code></a>([layout])</p></td><td><p>Global average pooling operation for temporal data.</p></td>'),\n",
       " ('even',\n",
       "  '<td><p><a class=\"reference internal\" href=\"#mxnet.gluon.nn.GlobalAvgPool2D\" title=\"mxnet.gluon.nn.GlobalAvgPool2D\"><code class=\"xref py py-obj docutils literal notranslate\"><span class=\"pre\">GlobalAvgPool2D</span></code></a>([layout])</p></td><td><p>Global average pooling operation for spatial data.</p></td>'),\n",
       " ('odd',\n",
       "  '<td><p><a class=\"reference internal\" href=\"#mxnet.gluon.nn.GlobalAvgPool3D\" title=\"mxnet.gluon.nn.GlobalAvgPool3D\"><code class=\"xref py py-obj docutils literal notranslate\"><span class=\"pre\">GlobalAvgPool3D</span></code></a>([layout])</p></td><td><p>Global average pooling operation for 3D data (spatial or spatio-temporal).</p></td>'),\n",
       " ('even',\n",
       "  '<td><p><a class=\"reference internal\" href=\"#mxnet.gluon.nn.GlobalMaxPool1D\" title=\"mxnet.gluon.nn.GlobalMaxPool1D\"><code class=\"xref py py-obj docutils literal notranslate\"><span class=\"pre\">GlobalMaxPool1D</span></code></a>([layout])</p></td><td><p>Gloabl max pooling operation for one dimensional (temporal) data.</p></td>'),\n",
       " ('odd',\n",
       "  '<td><p><a class=\"reference internal\" href=\"#mxnet.gluon.nn.GlobalMaxPool2D\" title=\"mxnet.gluon.nn.GlobalMaxPool2D\"><code class=\"xref py py-obj docutils literal notranslate\"><span class=\"pre\">GlobalMaxPool2D</span></code></a>([layout])</p></td><td><p>Global max pooling operation for two dimensional (spatial) data.</p></td>'),\n",
       " ('even',\n",
       "  '<td><p><a class=\"reference internal\" href=\"#mxnet.gluon.nn.GlobalMaxPool3D\" title=\"mxnet.gluon.nn.GlobalMaxPool3D\"><code class=\"xref py py-obj docutils literal notranslate\"><span class=\"pre\">GlobalMaxPool3D</span></code></a>([layout])</p></td><td><p>Global max pooling operation for 3D data (spatial or spatio-temporal).</p></td>'),\n",
       " ('odd',\n",
       "  '<td><p><a class=\"reference internal\" href=\"#mxnet.gluon.nn.GroupNorm\" title=\"mxnet.gluon.nn.GroupNorm\"><code class=\"xref py py-obj docutils literal notranslate\"><span class=\"pre\">GroupNorm</span></code></a>([num_groups,Â\\xa0epsilon,Â\\xa0center,Â\\xa0â\\x80¦])</p></td><td><p>Applies group normalization to the n-dimensional input array.</p></td>'),\n",
       " ('even',\n",
       "  '<td><p><a class=\"reference internal\" href=\"#mxnet.gluon.nn.HybridBlock\" title=\"mxnet.gluon.nn.HybridBlock\"><code class=\"xref py py-obj docutils literal notranslate\"><span class=\"pre\">HybridBlock</span></code></a>([prefix,Â\\xa0params])</p></td><td><p><cite>HybridBlock</cite> supports forwarding with both Symbol and NDArray.</p></td>'),\n",
       " ('odd',\n",
       "  '<td><p><a class=\"reference internal\" href=\"#mxnet.gluon.nn.HybridLambda\" title=\"mxnet.gluon.nn.HybridLambda\"><code class=\"xref py py-obj docutils literal notranslate\"><span class=\"pre\">HybridLambda</span></code></a>(function[,Â\\xa0prefix])</p></td><td><p>Wraps an operator or an expression as a HybridBlock object.</p></td>'),\n",
       " ('even',\n",
       "  '<td><p><a class=\"reference internal\" href=\"#mxnet.gluon.nn.HybridSequential\" title=\"mxnet.gluon.nn.HybridSequential\"><code class=\"xref py py-obj docutils literal notranslate\"><span class=\"pre\">HybridSequential</span></code></a>([prefix,Â\\xa0params])</p></td><td><p>Stacks HybridBlocks sequentially.</p></td>'),\n",
       " ('odd',\n",
       "  '<td><p><a class=\"reference internal\" href=\"#mxnet.gluon.nn.InstanceNorm\" title=\"mxnet.gluon.nn.InstanceNorm\"><code class=\"xref py py-obj docutils literal notranslate\"><span class=\"pre\">InstanceNorm</span></code></a>([axis,Â\\xa0epsilon,Â\\xa0center,Â\\xa0scale,Â\\xa0â\\x80¦])</p></td><td><p>Applies instance normalization to the n-dimensional input array.</p></td>'),\n",
       " ('even',\n",
       "  '<td><p><a class=\"reference internal\" href=\"#mxnet.gluon.nn.Lambda\" title=\"mxnet.gluon.nn.Lambda\"><code class=\"xref py py-obj docutils literal notranslate\"><span class=\"pre\">Lambda</span></code></a>(function[,Â\\xa0prefix])</p></td><td><p>Wraps an operator or an expression as a Block object.</p></td>'),\n",
       " ('odd',\n",
       "  '<td><p><a class=\"reference internal\" href=\"#mxnet.gluon.nn.LayerNorm\" title=\"mxnet.gluon.nn.LayerNorm\"><code class=\"xref py py-obj docutils literal notranslate\"><span class=\"pre\">LayerNorm</span></code></a>([axis,Â\\xa0epsilon,Â\\xa0center,Â\\xa0scale,Â\\xa0â\\x80¦])</p></td><td><p>Applies layer normalization to the n-dimensional input array.</p></td>'),\n",
       " ('even',\n",
       "  '<td><p><a class=\"reference internal\" href=\"#mxnet.gluon.nn.LeakyReLU\" title=\"mxnet.gluon.nn.LeakyReLU\"><code class=\"xref py py-obj docutils literal notranslate\"><span class=\"pre\">LeakyReLU</span></code></a>(alpha,Â\\xa0**kwargs)</p></td><td><p>Leaky version of a Rectified Linear Unit.</p></td>'),\n",
       " ('odd',\n",
       "  '<td><p><a class=\"reference internal\" href=\"#mxnet.gluon.nn.MaxPool1D\" title=\"mxnet.gluon.nn.MaxPool1D\"><code class=\"xref py py-obj docutils literal notranslate\"><span class=\"pre\">MaxPool1D</span></code></a>([pool_size,Â\\xa0strides,Â\\xa0padding,Â\\xa0â\\x80¦])</p></td><td><p>Max pooling operation for one dimensional data.</p></td>'),\n",
       " ('even',\n",
       "  '<td><p><a class=\"reference internal\" href=\"#mxnet.gluon.nn.MaxPool2D\" title=\"mxnet.gluon.nn.MaxPool2D\"><code class=\"xref py py-obj docutils literal notranslate\"><span class=\"pre\">MaxPool2D</span></code></a>([pool_size,Â\\xa0strides,Â\\xa0padding,Â\\xa0â\\x80¦])</p></td><td><p>Max pooling operation for two dimensional (spatial) data.</p></td>'),\n",
       " ('odd',\n",
       "  '<td><p><a class=\"reference internal\" href=\"#mxnet.gluon.nn.MaxPool3D\" title=\"mxnet.gluon.nn.MaxPool3D\"><code class=\"xref py py-obj docutils literal notranslate\"><span class=\"pre\">MaxPool3D</span></code></a>([pool_size,Â\\xa0strides,Â\\xa0padding,Â\\xa0â\\x80¦])</p></td><td><p>Max pooling operation for 3D data (spatial or spatio-temporal).</p></td>'),\n",
       " ('even',\n",
       "  '<td><p><a class=\"reference internal\" href=\"#mxnet.gluon.nn.PReLU\" title=\"mxnet.gluon.nn.PReLU\"><code class=\"xref py py-obj docutils literal notranslate\"><span class=\"pre\">PReLU</span></code></a>([alpha_initializer,Â\\xa0in_channels])</p></td><td><p>Parametric leaky version of a Rectified Linear Unit.</p></td>'),\n",
       " ('odd',\n",
       "  '<td><p><a class=\"reference internal\" href=\"#mxnet.gluon.nn.ReflectionPad2D\" title=\"mxnet.gluon.nn.ReflectionPad2D\"><code class=\"xref py py-obj docutils literal notranslate\"><span class=\"pre\">ReflectionPad2D</span></code></a>([padding])</p></td><td><p>Pads the input tensor using the reflection of the input boundary.</p></td>'),\n",
       " ('even',\n",
       "  '<td><p><a class=\"reference internal\" href=\"#mxnet.gluon.nn.SELU\" title=\"mxnet.gluon.nn.SELU\"><code class=\"xref py py-obj docutils literal notranslate\"><span class=\"pre\">SELU</span></code></a>(**kwargs)</p></td><td><p>Scaled Exponential Linear Unit (SELU)</p></td>'),\n",
       " ('odd',\n",
       "  '<td><p><a class=\"reference internal\" href=\"#mxnet.gluon.nn.Sequential\" title=\"mxnet.gluon.nn.Sequential\"><code class=\"xref py py-obj docutils literal notranslate\"><span class=\"pre\">Sequential</span></code></a>([prefix,Â\\xa0params])</p></td><td><p>Stacks Blocks sequentially.</p></td>'),\n",
       " ('even',\n",
       "  '<td><p><a class=\"reference internal\" href=\"#mxnet.gluon.nn.Swish\" title=\"mxnet.gluon.nn.Swish\"><code class=\"xref py py-obj docutils literal notranslate\"><span class=\"pre\">Swish</span></code></a>([beta])</p></td><td><p>Swish Activation function</p></td>'),\n",
       " ('odd',\n",
       "  '<td><p><a class=\"reference internal\" href=\"#mxnet.gluon.nn.SymbolBlock\" title=\"mxnet.gluon.nn.SymbolBlock\"><code class=\"xref py py-obj docutils literal notranslate\"><span class=\"pre\">SymbolBlock</span></code></a>(outputs,Â\\xa0inputs[,Â\\xa0params])</p></td><td><p>Construct block from symbol.</p></td>')]"
      ]
     },
     "execution_count": 109,
     "metadata": {},
     "output_type": "execute_result"
    }
   ],
   "source": [
    "func_elements"
   ]
  },
  {
   "cell_type": "code",
   "execution_count": 71,
   "metadata": {
    "scrolled": false
   },
   "outputs": [
    {
     "data": {
      "text/plain": [
       "'<colgroup><col style=\"width: 10%\"/><col style=\"width: 90%\"/></colgroup><tbody><tr class=\"row-odd\"><td><p><a class=\"reference internal\" href=\"#mxnet.gluon.rnn.RNN\" title=\"mxnet.gluon.rnn.RNN\"><code class=\"xref py py-obj docutils literal notranslate\"><span class=\"pre\">rnn.RNN</span></code></a></p></td><td><p>Applies a multi-layer Elman RNN with <cite>tanh</cite> or <cite>ReLU</cite> non-linearity to an input sequence.</p></td></tr><tr class=\"row-even\"><td><p><a class=\"reference internal\" href=\"#mxnet.gluon.rnn.LSTM\" title=\"mxnet.gluon.rnn.LSTM\"><code class=\"xref py py-obj docutils literal notranslate\"><span class=\"pre\">rnn.LSTM</span></code></a></p></td><td><p>Applies a multi-layer long short-term memory (LSTM) RNN to an input sequence.</p></td></tr><tr class=\"row-odd\"><td><p><a class=\"reference internal\" href=\"#mxnet.gluon.rnn.GRU\" title=\"mxnet.gluon.rnn.GRU\"><code class=\"xref py py-obj docutils literal notranslate\"><span class=\"pre\">rnn.GRU</span></code></a></p></td><td><p>Applies a multi-layer gated recurrent unit (GRU) RNN to an input sequence.</p></td></tr></tbody>'"
      ]
     },
     "execution_count": 71,
     "metadata": {},
     "output_type": "execute_result"
    }
   ],
   "source": [
    "func_list[2]"
   ]
  },
  {
   "cell_type": "code",
   "execution_count": null,
   "metadata": {},
   "outputs": [],
   "source": []
  },
  {
   "cell_type": "code",
   "execution_count": 24,
   "metadata": {},
   "outputs": [],
   "source": [
    "import pandas as pd"
   ]
  },
  {
   "cell_type": "code",
   "execution_count": 62,
   "metadata": {
    "scrolled": false
   },
   "outputs": [],
   "source": [
    "tables = pd.read_html(tmp_url)"
   ]
  },
  {
   "cell_type": "code",
   "execution_count": 63,
   "metadata": {},
   "outputs": [
    {
     "data": {
      "text/plain": [
       "[                     0                               1\n",
       " 0  mxnet.gluon.contrib  Contrib neural network module.,\n",
       "                   0                                                  1\n",
       " 0        Concurrent                         Lays Block s concurrently.\n",
       " 1  HybridConcurrent                   Lays HybridBlock s concurrently.\n",
       " 2          Identity      Block that passes through the input directly.\n",
       " 3   SparseEmbedding  Turns non-negative integers (indexes/tokens) i...\n",
       " 4     SyncBatchNorm  Cross-GPU Synchronized Batch normalization (Sy...\n",
       " 5    PixelShuffle1D  Pixel-shuffle layer for upsampling in 1 dimens...\n",
       " 6    PixelShuffle2D  Pixel-shuffle layer for upsampling in 2 dimens...\n",
       " 7    PixelShuffle3D  Pixel-shuffle layer for upsampling in 3 dimens...,\n",
       "                        0                                            1\n",
       " 0  DeformableConvolution  2-D Deformable Convolution v_1 (Dai, 2017).,\n",
       "                          0                                                  1\n",
       " 0   VariationalDropoutCell          Applies Variational Dropout on base cell.\n",
       " 1            Conv1DRNNCell                         1D Convolutional RNN cell.\n",
       " 2            Conv2DRNNCell                         2D Convolutional RNN cell.\n",
       " 3            Conv3DRNNCell                         3D Convolutional RNN cells\n",
       " 4           Conv1DLSTMCell                1D Convolutional LSTM network cell.\n",
       " 5           Conv2DLSTMCell                2D Convolutional LSTM network cell.\n",
       " 6           Conv3DLSTMCell                3D Convolutional LSTM network cell.\n",
       " 7            Conv1DGRUCell  1D Convolutional Gated Rectified Unit (GRU) ne...\n",
       " 8            Conv2DGRUCell  2D Convolutional Gated Rectified Unit (GRU) ne...\n",
       " 9            Conv3DGRUCell  3D Convolutional Gated Rectified Unit (GRU) ne...\n",
       " 10               LSTMPCell  Long-Short Term Memory Projected (LSTMP) netwo...,\n",
       "                  0                                                  1\n",
       " 0  IntervalSampler  Samples elements from [0, length) at fixed int...,\n",
       "              0                                                  1\n",
       " 0    WikiText2  WikiText-2 word-level dataset for language mod...\n",
       " 1  WikiText103  WikiText-103 word-level dataset for language m...,\n",
       "            0                                        1\n",
       " 0  Estimator  Estimator Class for easy model training,\n",
       "                       0                                                  1\n",
       " 0       StoppingHandler  Stop conditions to stop training Stop training...\n",
       " 1         MetricHandler  Metric Handler that update metric values at ba...\n",
       " 2     ValidationHandler  Validation Handler that evaluate model on vali...\n",
       " 3        LoggingHandler  Basic Logging Handler that applies to every Gl...\n",
       " 4     CheckpointHandler            Save the model after user define period\n",
       " 5  EarlyStoppingHandler  Early stop training if monitored value is not ...]"
      ]
     },
     "execution_count": 63,
     "metadata": {},
     "output_type": "execute_result"
    }
   ],
   "source": [
    "\n",
    "tables"
   ]
  },
  {
   "cell_type": "code",
   "execution_count": 30,
   "metadata": {},
   "outputs": [],
   "source": [
    "a = [1,2,3,4,5]"
   ]
  },
  {
   "cell_type": "code",
   "execution_count": 31,
   "metadata": {},
   "outputs": [
    {
     "data": {
      "text/plain": [
       "[2, 3]"
      ]
     },
     "execution_count": 31,
     "metadata": {},
     "output_type": "execute_result"
    }
   ],
   "source": [
    "a[1:3]"
   ]
  },
  {
   "cell_type": "code",
   "execution_count": 87,
   "metadata": {},
   "outputs": [],
   "source": [
    "url = 'https://mxnet.apache.org/versions/1.7.0/api/python/docs/api/'\n",
    "init_offset = 'index.html'\n",
    "content = parse_html(url+init_offset, class_ = 'toctree-l1 current')\n",
    "offsets = re.findall(r'href=\\\"(.*?)\\\"', str(content[0].find_all('li')))"
   ]
  },
  {
   "cell_type": "code",
   "execution_count": 90,
   "metadata": {},
   "outputs": [],
   "source": [
    "def read_soup(path):\n",
    "    with open(path) as f:\n",
    "        soup = BeautifulSoup(f.read(), features=\"lxml\")\n",
    "        \n",
    "    return soup"
   ]
  },
  {
   "cell_type": "code",
   "execution_count": 91,
   "metadata": {},
   "outputs": [],
   "source": [
    "soup_path = '/Users/danning/Desktop/deepflaw/web_source/mx1.7_source/gluon-rnn.html'\n",
    "soup = read_soup(soup_path)"
   ]
  },
  {
   "cell_type": "code",
   "execution_count": 92,
   "metadata": {
    "scrolled": false
   },
   "outputs": [],
   "source": [
    "api_class = soup.find_all('dl',{'class':'class'})"
   ]
  },
  {
   "cell_type": "code",
   "execution_count": 101,
   "metadata": {
    "collapsed": true
   },
   "outputs": [
    {
     "data": {
      "text/plain": [
       "[<dl class=\"method\">\n",
       " <dt id=\"mxnet.gluon.rnn.BidirectionalCell.begin_state\">\n",
       " <code class=\"sig-name descname\">begin_state</code><span class=\"sig-paren\">(</span><em class=\"sig-param\">**kwargs</em><span class=\"sig-paren\">)</span><a class=\"reference internal\" href=\"../../../_modules/mxnet/gluon/rnn/rnn_cell.html#BidirectionalCell.begin_state\"><span class=\"viewcode-link\">[source]</span></a><a class=\"headerlink\" href=\"#mxnet.gluon.rnn.BidirectionalCell.begin_state\" title=\"Permalink to this definition\">¶</a></dt>\n",
       " <dd><p>Initial state for this cell.</p>\n",
       " <dl class=\"field-list simple\">\n",
       " <dt class=\"field-odd\">Parameters</dt>\n",
       " <dd class=\"field-odd\"><ul class=\"simple\">\n",
       " <li><p><strong>func</strong> (<em>callable</em><em>, </em><em>default symbol.zeros</em>) – </p><p>Function for creating initial state.</p>\n",
       " <p>For Symbol API, func can be <cite>symbol.zeros</cite>, <cite>symbol.uniform</cite>,\n",
       " <cite>symbol.var etc</cite>. Use <cite>symbol.var</cite> if you want to directly\n",
       " feed input as states.</p>\n",
       " <p>For NDArray API, func can be <cite>ndarray.zeros</cite>, <cite>ndarray.ones</cite>, etc.</p>\n",
       " </li>\n",
       " <li><p><strong>batch_size</strong> (<em>int</em><em>, </em><em>default 0</em>) – Only required for NDArray API. Size of the batch (‘N’ in layout)\n",
       " dimension of input.</p></li>\n",
       " <li><p><strong>**kwargs</strong> – Additional keyword arguments passed to func. For example\n",
       " <cite>mean</cite>, <cite>std</cite>, <cite>dtype</cite>, etc.</p></li>\n",
       " </ul>\n",
       " </dd>\n",
       " <dt class=\"field-even\">Returns</dt>\n",
       " <dd class=\"field-even\"><p><strong>states</strong> – Starting states for the first RNN step.</p>\n",
       " </dd>\n",
       " <dt class=\"field-odd\">Return type</dt>\n",
       " <dd class=\"field-odd\"><p>nested list of Symbol</p>\n",
       " </dd>\n",
       " </dl>\n",
       " </dd></dl>, <dl class=\"method\">\n",
       " <dt id=\"mxnet.gluon.rnn.BidirectionalCell.state_info\">\n",
       " <code class=\"sig-name descname\">state_info</code><span class=\"sig-paren\">(</span><em class=\"sig-param\">batch_size=0</em><span class=\"sig-paren\">)</span><a class=\"reference internal\" href=\"../../../_modules/mxnet/gluon/rnn/rnn_cell.html#BidirectionalCell.state_info\"><span class=\"viewcode-link\">[source]</span></a><a class=\"headerlink\" href=\"#mxnet.gluon.rnn.BidirectionalCell.state_info\" title=\"Permalink to this definition\">¶</a></dt>\n",
       " <dd><p>shape and layout information of states</p>\n",
       " </dd></dl>, <dl class=\"method\">\n",
       " <dt id=\"mxnet.gluon.rnn.BidirectionalCell.unroll\">\n",
       " <code class=\"sig-name descname\">unroll</code><span class=\"sig-paren\">(</span><em class=\"sig-param\">length</em>, <em class=\"sig-param\">inputs</em>, <em class=\"sig-param\">begin_state=None</em>, <em class=\"sig-param\">layout='NTC'</em>, <em class=\"sig-param\">merge_outputs=None</em>, <em class=\"sig-param\">valid_length=None</em><span class=\"sig-paren\">)</span><a class=\"reference internal\" href=\"../../../_modules/mxnet/gluon/rnn/rnn_cell.html#BidirectionalCell.unroll\"><span class=\"viewcode-link\">[source]</span></a><a class=\"headerlink\" href=\"#mxnet.gluon.rnn.BidirectionalCell.unroll\" title=\"Permalink to this definition\">¶</a></dt>\n",
       " <dd><p>Unrolls an RNN cell across time steps.</p>\n",
       " <dl class=\"field-list simple\">\n",
       " <dt class=\"field-odd\">Parameters</dt>\n",
       " <dd class=\"field-odd\"><ul class=\"simple\">\n",
       " <li><p><strong>length</strong> (<em>int</em>) – Number of steps to unroll.</p></li>\n",
       " <li><p><strong>inputs</strong> (<a class=\"reference internal\" href=\"../../symbol/symbol.html#mxnet.symbol.Symbol\" title=\"mxnet.symbol.Symbol\"><em>Symbol</em></a><em>, </em><em>list of Symbol</em><em>, or </em><em>None</em>) – </p><p>If <cite>inputs</cite> is a single Symbol (usually the output\n",
       " of Embedding symbol), it should have shape\n",
       " (batch_size, length, …) if <cite>layout</cite> is ‘NTC’,\n",
       " or (length, batch_size, …) if <cite>layout</cite> is ‘TNC’.</p>\n",
       " <p>If <cite>inputs</cite> is a list of symbols (usually output of\n",
       " previous unroll), they should all have shape\n",
       " (batch_size, …).</p>\n",
       " </li>\n",
       " <li><p><strong>begin_state</strong> (<em>nested list of Symbol</em><em>, </em><em>optional</em>) – Input states created by <cite>begin_state()</cite>\n",
       " or output state of another cell.\n",
       " Created from <cite>begin_state()</cite> if <cite>None</cite>.</p></li>\n",
       " <li><p><strong>layout</strong> (<em>str</em><em>, </em><em>optional</em>) – <cite>layout</cite> of input symbol. Only used if inputs\n",
       " is a single Symbol.</p></li>\n",
       " <li><p><strong>merge_outputs</strong> (<em>bool</em><em>, </em><em>optional</em>) – If <cite>False</cite>, returns outputs as a list of Symbols.\n",
       " If <cite>True</cite>, concatenates output across time steps\n",
       " and returns a single symbol with shape\n",
       " (batch_size, length, …) if layout is ‘NTC’,\n",
       " or (length, batch_size, …) if layout is ‘TNC’.\n",
       " If <cite>None</cite>, output whatever is faster.</p></li>\n",
       " <li><p><strong>valid_length</strong> (<a class=\"reference internal\" href=\"../../symbol/symbol.html#mxnet.symbol.Symbol\" title=\"mxnet.symbol.Symbol\"><em>Symbol</em></a><em>, </em><a class=\"reference internal\" href=\"../../ndarray/ndarray.html#mxnet.ndarray.NDArray\" title=\"mxnet.ndarray.NDArray\"><em>NDArray</em></a><em> or </em><em>None</em>) – <cite>valid_length</cite> specifies the length of the sequences in the batch without padding.\n",
       " This option is especially useful for building sequence-to-sequence models where\n",
       " the input and output sequences would potentially be padded.\n",
       " If <cite>valid_length</cite> is None, all sequences are assumed to have the same length.\n",
       " If <cite>valid_length</cite> is a Symbol or NDArray, it should have shape (batch_size,).\n",
       " The ith element will be the length of the ith sequence in the batch.\n",
       " The last valid state will be return and the padded outputs will be masked with 0.\n",
       " Note that <cite>valid_length</cite> must be smaller or equal to <cite>length</cite>.</p></li>\n",
       " </ul>\n",
       " </dd>\n",
       " <dt class=\"field-even\">Returns</dt>\n",
       " <dd class=\"field-even\"><p></p><ul class=\"simple\">\n",
       " <li><p><strong>outputs</strong> (<em>list of Symbol or Symbol</em>) – Symbol (if <cite>merge_outputs</cite> is True) or list of Symbols\n",
       " (if <cite>merge_outputs</cite> is False) corresponding to the output from\n",
       " the RNN from this unrolling.</p></li>\n",
       " <li><p><strong>states</strong> (<em>list of Symbol</em>) – The new state of this RNN after this unrolling.\n",
       " The type of this symbol is same as the output of <cite>begin_state()</cite>.</p></li>\n",
       " </ul>\n",
       " </dd>\n",
       " </dl>\n",
       " </dd></dl>]"
      ]
     },
     "execution_count": 101,
     "metadata": {},
     "output_type": "execute_result"
    }
   ],
   "source": [
    "api_class[0].find_all(class_='method')"
   ]
  },
  {
   "cell_type": "code",
   "execution_count": 102,
   "metadata": {},
   "outputs": [],
   "source": [
    "for method in api_class[0].find_all(class_='method'):\n",
    "    method.decompose()"
   ]
  },
  {
   "cell_type": "code",
   "execution_count": 115,
   "metadata": {
    "scrolled": false
   },
   "outputs": [
    {
     "data": {
      "text/plain": [
       "<dl class=\"class\">\n",
       "<dt id=\"mxnet.gluon.rnn.LSTMCell\">\n",
       "<em class=\"property\">class </em><code class=\"sig-prename descclassname\">mxnet.gluon.rnn.</code><code class=\"sig-name descname\">LSTMCell</code><span class=\"sig-paren\">(</span><em class=\"sig-param\">hidden_size</em>, <em class=\"sig-param\">i2h_weight_initializer=None</em>, <em class=\"sig-param\">h2h_weight_initializer=None</em>, <em class=\"sig-param\">i2h_bias_initializer='zeros'</em>, <em class=\"sig-param\">h2h_bias_initializer='zeros'</em>, <em class=\"sig-param\">input_size=0</em>, <em class=\"sig-param\">prefix=None</em>, <em class=\"sig-param\">params=None</em>, <em class=\"sig-param\">activation='tanh'</em>, <em class=\"sig-param\">recurrent_activation='sigmoid'</em><span class=\"sig-paren\">)</span><a class=\"reference internal\" href=\"../../../_modules/mxnet/gluon/rnn/rnn_cell.html#LSTMCell\"><span class=\"viewcode-link\">[source]</span></a><a class=\"headerlink\" href=\"#mxnet.gluon.rnn.LSTMCell\" title=\"Permalink to this definition\">¶</a></dt>\n",
       "<dd><p>Bases: <code class=\"xref py py-class docutils literal notranslate\"><span class=\"pre\">mxnet.gluon.rnn.rnn_cell.HybridRecurrentCell</span></code></p>\n",
       "<p>Long-Short Term Memory (LSTM) network cell.</p>\n",
       "<p>Each call computes the following function:</p>\n",
       "<div class=\"math notranslate nohighlight\">\n",
       "\\[\\begin{split}\\begin{array}{ll}\n",
       "i_t = sigmoid(W_{ii} x_t + b_{ii} + W_{hi} h_{(t-1)} + b_{hi}) \\\\\n",
       "f_t = sigmoid(W_{if} x_t + b_{if} + W_{hf} h_{(t-1)} + b_{hf}) \\\\\n",
       "g_t = \\tanh(W_{ig} x_t + b_{ig} + W_{hc} h_{(t-1)} + b_{hg}) \\\\\n",
       "o_t = sigmoid(W_{io} x_t + b_{io} + W_{ho} h_{(t-1)} + b_{ho}) \\\\\n",
       "c_t = f_t * c_{(t-1)} + i_t * g_t \\\\\n",
       "h_t = o_t * \\tanh(c_t)\n",
       "\\end{array}\\end{split}\\]</div>\n",
       "<p><strong>Methods</strong></p>\n",
       "<table class=\"longtable docutils align-default\">\n",
       "<colgroup>\n",
       "<col style=\"width: 10%\"/>\n",
       "<col style=\"width: 90%\"/>\n",
       "</colgroup>\n",
       "<tbody>\n",
       "<tr class=\"row-odd\"><td><p><a class=\"reference internal\" href=\"#mxnet.gluon.rnn.LSTMCell.hybrid_forward\" title=\"mxnet.gluon.rnn.LSTMCell.hybrid_forward\"><code class=\"xref py py-obj docutils literal notranslate\"><span class=\"pre\">hybrid_forward</span></code></a>(F, inputs, states, …)</p></td>\n",
       "<td><p>Overrides to construct symbolic graph for this <cite>Block</cite>.</p></td>\n",
       "</tr>\n",
       "<tr class=\"row-even\"><td><p><a class=\"reference internal\" href=\"#mxnet.gluon.rnn.LSTMCell.state_info\" title=\"mxnet.gluon.rnn.LSTMCell.state_info\"><code class=\"xref py py-obj docutils literal notranslate\"><span class=\"pre\">state_info</span></code></a>([batch_size])</p></td>\n",
       "<td><p>shape and layout information of states</p></td>\n",
       "</tr>\n",
       "</tbody>\n",
       "</table>\n",
       "<p>where <span class=\"math notranslate nohighlight\">\\(h_t\\)</span> is the hidden state at time <cite>t</cite>, <span class=\"math notranslate nohighlight\">\\(c_t\\)</span> is the\n",
       "cell state at time <cite>t</cite>, <span class=\"math notranslate nohighlight\">\\(x_t\\)</span> is the hidden state of the previous\n",
       "layer at time <cite>t</cite> or <span class=\"math notranslate nohighlight\">\\(input_t\\)</span> for the first layer, and <span class=\"math notranslate nohighlight\">\\(i_t\\)</span>,\n",
       "<span class=\"math notranslate nohighlight\">\\(f_t\\)</span>, <span class=\"math notranslate nohighlight\">\\(g_t\\)</span>, <span class=\"math notranslate nohighlight\">\\(o_t\\)</span> are the input, forget, cell, and\n",
       "out gates, respectively.</p>\n",
       "<dl class=\"field-list simple\">\n",
       "<dt class=\"field-odd\">Parameters</dt>\n",
       "<dd class=\"field-odd\"><ul class=\"simple\">\n",
       "<li><p><strong>hidden_size</strong> (<em>int</em>) – Number of units in output symbol.</p></li>\n",
       "<li><p><strong>i2h_weight_initializer</strong> (<em>str</em><em> or </em><a class=\"reference internal\" href=\"../../initializer/index.html#mxnet.initializer.Initializer\" title=\"mxnet.initializer.Initializer\"><em>Initializer</em></a>) – Initializer for the input weights matrix, used for the linear\n",
       "transformation of the inputs.</p></li>\n",
       "<li><p><strong>h2h_weight_initializer</strong> (<em>str</em><em> or </em><a class=\"reference internal\" href=\"../../initializer/index.html#mxnet.initializer.Initializer\" title=\"mxnet.initializer.Initializer\"><em>Initializer</em></a>) – Initializer for the recurrent weights matrix, used for the linear\n",
       "transformation of the recurrent state.</p></li>\n",
       "<li><p><strong>i2h_bias_initializer</strong> (<em>str</em><em> or </em><a class=\"reference internal\" href=\"../../initializer/index.html#mxnet.initializer.Initializer\" title=\"mxnet.initializer.Initializer\"><em>Initializer</em></a><em>, </em><em>default 'zeros'</em>) – Initializer for the bias vector.</p></li>\n",
       "<li><p><strong>h2h_bias_initializer</strong> (<em>str</em><em> or </em><a class=\"reference internal\" href=\"../../initializer/index.html#mxnet.initializer.Initializer\" title=\"mxnet.initializer.Initializer\"><em>Initializer</em></a><em>, </em><em>default 'zeros'</em>) – Initializer for the bias vector.</p></li>\n",
       "<li><p><strong>prefix</strong> (str, default <code class=\"docutils literal notranslate\"><span class=\"pre\">'lstm_'</span></code>) – Prefix for name of <cite>Block`s\n",
       "(and name of weight if params is `None</cite>).</p></li>\n",
       "<li><p><strong>params</strong> (<a class=\"reference internal\" href=\"../parameter.html#mxnet.gluon.Parameter\" title=\"mxnet.gluon.Parameter\"><em>Parameter</em></a><em> or </em><em>None</em><em>, </em><em>default None</em>) – Container for weight sharing between cells.\n",
       "Created if <cite>None</cite>.</p></li>\n",
       "<li><p><strong>activation</strong> (<em>str</em><em>, </em><em>default 'tanh'</em>) – Activation type to use. See nd/symbol Activation\n",
       "for supported types.</p></li>\n",
       "<li><p><strong>recurrent_activation</strong> (<em>str</em><em>, </em><em>default 'sigmoid'</em>) – Activation type to use for the recurrent step. See nd/symbol Activation\n",
       "for supported types.</p></li>\n",
       "<li><p><strong>Inputs</strong> – </p><ul>\n",
       "<li><p><strong>data</strong>: input tensor with shape <cite>(batch_size, input_size)</cite>.</p></li>\n",
       "<li><p><strong>states</strong>: a list of two initial recurrent state tensors. Each has shape\n",
       "<cite>(batch_size, num_hidden)</cite>.</p></li>\n",
       "</ul>\n",
       "</li>\n",
       "<li><p><strong>Outputs</strong> – </p><ul>\n",
       "<li><p><strong>out</strong>: output tensor with shape <cite>(batch_size, num_hidden)</cite>.</p></li>\n",
       "<li><p><strong>next_states</strong>: a list of two output recurrent state tensors. Each has\n",
       "the same shape as <cite>states</cite>.</p></li>\n",
       "</ul>\n",
       "</li>\n",
       "</ul>\n",
       "</dd>\n",
       "</dl>\n",
       "<dl class=\"method\">\n",
       "<dt id=\"mxnet.gluon.rnn.LSTMCell.hybrid_forward\">\n",
       "<code class=\"sig-name descname\">hybrid_forward</code><span class=\"sig-paren\">(</span><em class=\"sig-param\">F</em>, <em class=\"sig-param\">inputs</em>, <em class=\"sig-param\">states</em>, <em class=\"sig-param\">i2h_weight</em>, <em class=\"sig-param\">h2h_weight</em>, <em class=\"sig-param\">i2h_bias</em>, <em class=\"sig-param\">h2h_bias</em><span class=\"sig-paren\">)</span><a class=\"reference internal\" href=\"../../../_modules/mxnet/gluon/rnn/rnn_cell.html#LSTMCell.hybrid_forward\"><span class=\"viewcode-link\">[source]</span></a><a class=\"headerlink\" href=\"#mxnet.gluon.rnn.LSTMCell.hybrid_forward\" title=\"Permalink to this definition\">¶</a></dt>\n",
       "<dd><p>Overrides to construct symbolic graph for this <cite>Block</cite>.</p>\n",
       "<dl class=\"field-list simple\">\n",
       "<dt class=\"field-odd\">Parameters</dt>\n",
       "<dd class=\"field-odd\"><ul class=\"simple\">\n",
       "<li><p><strong>x</strong> (<a class=\"reference internal\" href=\"../../symbol/symbol.html#mxnet.symbol.Symbol\" title=\"mxnet.symbol.Symbol\"><em>Symbol</em></a><em> or </em><a class=\"reference internal\" href=\"../../ndarray/ndarray.html#mxnet.ndarray.NDArray\" title=\"mxnet.ndarray.NDArray\"><em>NDArray</em></a>) – The first input tensor.</p></li>\n",
       "<li><p><strong>*args</strong> (<em>list of Symbol</em><em> or </em><em>list of NDArray</em>) – Additional input tensors.</p></li>\n",
       "</ul>\n",
       "</dd>\n",
       "</dl>\n",
       "</dd></dl>\n",
       "<dl class=\"method\">\n",
       "<dt id=\"mxnet.gluon.rnn.LSTMCell.state_info\">\n",
       "<code class=\"sig-name descname\">state_info</code><span class=\"sig-paren\">(</span><em class=\"sig-param\">batch_size=0</em><span class=\"sig-paren\">)</span><a class=\"reference internal\" href=\"../../../_modules/mxnet/gluon/rnn/rnn_cell.html#LSTMCell.state_info\"><span class=\"viewcode-link\">[source]</span></a><a class=\"headerlink\" href=\"#mxnet.gluon.rnn.LSTMCell.state_info\" title=\"Permalink to this definition\">¶</a></dt>\n",
       "<dd><p>shape and layout information of states</p>\n",
       "</dd></dl>\n",
       "</dd></dl>"
      ]
     },
     "execution_count": 115,
     "metadata": {},
     "output_type": "execute_result"
    }
   ],
   "source": [
    "api_class[7]"
   ]
  },
  {
   "cell_type": "code",
   "execution_count": null,
   "metadata": {},
   "outputs": [],
   "source": []
  }
 ],
 "metadata": {
  "kernelspec": {
   "display_name": "Python 3",
   "language": "python",
   "name": "python3"
  },
  "language_info": {
   "codemirror_mode": {
    "name": "ipython",
    "version": 3
   },
   "file_extension": ".py",
   "mimetype": "text/x-python",
   "name": "python",
   "nbconvert_exporter": "python",
   "pygments_lexer": "ipython3",
   "version": "3.6.4"
  }
 },
 "nbformat": 4,
 "nbformat_minor": 4
}
