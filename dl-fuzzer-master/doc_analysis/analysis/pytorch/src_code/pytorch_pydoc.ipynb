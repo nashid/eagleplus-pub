{
 "cells": [
  {
   "cell_type": "code",
   "execution_count": 507,
   "metadata": {},
   "outputs": [],
   "source": [
    "import io\n",
    "\n",
    "import pandas as pd\n",
    "import numpy as np\n",
    "from bs4 import BeautifulSoup\n",
    "import bs4\n",
    "import requests\n",
    "import os\n",
    "import csv\n",
    "import re\n",
    "from parse import *\n",
    "import signal\n",
    "import csv\n",
    "import re"
   ]
  },
  {
   "cell_type": "code",
   "execution_count": 4,
   "metadata": {},
   "outputs": [],
   "source": [
    "def parse_html(url):\n",
    "    req = requests.get(url)\n",
    "    soup = BeautifulSoup(req.text, 'lxml')\n",
    "    return soup"
   ]
  },
  {
   "cell_type": "code",
   "execution_count": 135,
   "metadata": {},
   "outputs": [],
   "source": [
    "url = 'https://pytorch.org/docs/stable/'\n",
    "offset_list = []"
   ]
  },
  {
   "cell_type": "code",
   "execution_count": 491,
   "metadata": {},
   "outputs": [
    {
     "ename": "IndexError",
     "evalue": "list index out of range",
     "output_type": "error",
     "traceback": [
      "\u001b[0;31m---------------------------------------------------------------------------\u001b[0m",
      "\u001b[0;31mIndexError\u001b[0m                                Traceback (most recent call last)",
      "\u001b[0;32m<ipython-input-491-79a2465285ac>\u001b[0m in \u001b[0;36m<module>\u001b[0;34m\u001b[0m\n\u001b[1;32m      1\u001b[0m \u001b[0msoup\u001b[0m \u001b[0;34m=\u001b[0m \u001b[0mparse_html\u001b[0m\u001b[0;34m(\u001b[0m\u001b[0murl\u001b[0m\u001b[0;34m)\u001b[0m\u001b[0;34m\u001b[0m\u001b[0;34m\u001b[0m\u001b[0m\n\u001b[1;32m      2\u001b[0m \u001b[0mcontent\u001b[0m \u001b[0;34m=\u001b[0m \u001b[0msoup\u001b[0m\u001b[0;34m.\u001b[0m\u001b[0mfind_all\u001b[0m\u001b[0;34m(\u001b[0m\u001b[0mclass_\u001b[0m\u001b[0;34m=\u001b[0m\u001b[0;34m'toctree-wrapper compound'\u001b[0m\u001b[0;34m)\u001b[0m\u001b[0;34m\u001b[0m\u001b[0;34m\u001b[0m\u001b[0m\n\u001b[0;32m----> 3\u001b[0;31m \u001b[0;32mfor\u001b[0m \u001b[0mc\u001b[0m \u001b[0;32min\u001b[0m \u001b[0mcontent\u001b[0m\u001b[0;34m[\u001b[0m\u001b[0;36m2\u001b[0m\u001b[0;34m]\u001b[0m\u001b[0;34m.\u001b[0m\u001b[0mfind_all\u001b[0m\u001b[0;34m(\u001b[0m\u001b[0mclass_\u001b[0m\u001b[0;34m=\u001b[0m\u001b[0;34m'toctree-l1'\u001b[0m\u001b[0;34m)\u001b[0m\u001b[0;34m:\u001b[0m\u001b[0;34m\u001b[0m\u001b[0;34m\u001b[0m\u001b[0m\n\u001b[0m\u001b[1;32m      4\u001b[0m     \u001b[0moffset_list\u001b[0m\u001b[0;34m.\u001b[0m\u001b[0mappend\u001b[0m\u001b[0;34m(\u001b[0m\u001b[0mc\u001b[0m\u001b[0;34m(\u001b[0m\u001b[0;34m'a'\u001b[0m\u001b[0;34m)\u001b[0m\u001b[0;34m[\u001b[0m\u001b[0;36m0\u001b[0m\u001b[0;34m]\u001b[0m\u001b[0;34m.\u001b[0m\u001b[0mget\u001b[0m\u001b[0;34m(\u001b[0m\u001b[0;34m'href'\u001b[0m\u001b[0;34m)\u001b[0m\u001b[0;34m)\u001b[0m\u001b[0;34m\u001b[0m\u001b[0;34m\u001b[0m\u001b[0m\n",
      "\u001b[0;31mIndexError\u001b[0m: list index out of range"
     ]
    }
   ],
   "source": [
    "soup = parse_html(url)\n",
    "content = soup.find_all(class_='toctree-wrapper compound')\n",
    "for c in content[2].find_all(class_='toctree-l1'):\n",
    "    offset_list.append(c('a')[0].get('href'))"
   ]
  },
  {
   "cell_type": "code",
   "execution_count": 47,
   "metadata": {
    "collapsed": true
   },
   "outputs": [
    {
     "data": {
      "text/plain": [
       "['torch.html',\n",
       " 'nn.html',\n",
       " 'nn.functional.html',\n",
       " 'tensors.html',\n",
       " 'tensor_attributes.html',\n",
       " 'tensor_view.html',\n",
       " 'autograd.html',\n",
       " 'cuda.html',\n",
       " 'amp.html',\n",
       " 'distributed.html',\n",
       " 'distributions.html',\n",
       " 'hub.html',\n",
       " 'jit.html',\n",
       " 'nn.init.html',\n",
       " 'onnx.html',\n",
       " 'optim.html',\n",
       " 'quantization.html',\n",
       " 'rpc/index.html',\n",
       " 'random.html',\n",
       " 'sparse.html',\n",
       " 'storage.html',\n",
       " 'bottleneck.html',\n",
       " 'checkpoint.html',\n",
       " 'cpp_extension.html',\n",
       " 'data.html',\n",
       " 'dlpack.html',\n",
       " 'model_zoo.html',\n",
       " 'tensorboard.html',\n",
       " 'type_info.html',\n",
       " 'named_tensor.html',\n",
       " 'name_inference.html',\n",
       " '__config__.html']"
      ]
     },
     "execution_count": 47,
     "metadata": {},
     "output_type": "execute_result"
    }
   ],
   "source": [
    "offset_list"
   ]
  },
  {
   "cell_type": "code",
   "execution_count": 209,
   "metadata": {},
   "outputs": [],
   "source": [
    "def parse_descp(func):\n",
    "    s= re.sub('\\n', ' ', str(func))\n",
    "    descp_pat = r'<dl class=.*?>\\s*<dt class=.*?>Parameters</dt>\\s*<dd class=.*?>(.*?)</dd>'\n",
    "    descp_sect = re.search(descp_pat, s)\n",
    "    if not descp_sect:\n",
    "        print('No parameter section detected')\n",
    "        return None\n",
    "    \n",
    "    return descp_sect.group(1)\n",
    "    "
   ]
  },
  {
   "cell_type": "code",
   "execution_count": 401,
   "metadata": {},
   "outputs": [],
   "source": [
    "def get_param_sect(func_src):\n",
    "    func_str= re.sub('\\n', ' ', str(func_src))\n",
    "    descp_pat = r'<dl class=.*?>\\s*<dt class=.*?>Parameters</dt>\\s*<dd class=.*?>(.*?)</dd>'\n",
    "    descp_sect = re.search(descp_pat, func_str)\n",
    "    if not descp_sect:\n",
    "        print('no parameter section detected')\n",
    "\n",
    "    return descp_sect.group(1)"
   ]
  },
  {
   "cell_type": "code",
   "execution_count": 435,
   "metadata": {},
   "outputs": [],
   "source": [
    "def get_param_sect(func_src):\n",
    "    func_str= re.sub('\\n', ' ', str(func_src))\n",
    "    print(func_str)\n",
    "    descp_pat = r'<dl class=.*?>\\s*<dt class=.*?>Parameters</dt>\\s*<dd class=.*?>(.*?)</dd>'\n",
    "    descp_sect = re.search(descp_pat, func_str)\n",
    "    if not descp_sect:\n",
    "        print('not detected')\n",
    "        return\n",
    "\n",
    "    return descp_sect.group(1)"
   ]
  },
  {
   "cell_type": "code",
   "execution_count": 436,
   "metadata": {},
   "outputs": [
    {
     "name": "stdout",
     "output_type": "stream",
     "text": [
      "<dl class=\"function\"> <dt> <code class=\"sig-prename descclassname\">torch.</code><code class=\"sig-name descname\">where</code><span class=\"sig-paren\">(</span><em class=\"sig-param\">condition</em>, <em class=\"sig-param\">x</em>, <em class=\"sig-param\">y</em><span class=\"sig-paren\">)</span> → Tensor</dt> <dd></dd></dl>\n",
      "not detected\n"
     ]
    }
   ],
   "source": [
    "get_param_sect(api_func[48])"
   ]
  },
  {
   "cell_type": "code",
   "execution_count": 576,
   "metadata": {},
   "outputs": [],
   "source": [
    "\n",
    "def get_sig(func_src):\n",
    "    sig_pat = r'<span class=\\\"sig-paren\\\">\\(</span>(.*?)<span class=\\\"sig-paren\\\">\\)</span>'\n",
    "    parsed = re.search(sig_pat, str(func_src))\n",
    "    if parsed:\n",
    "        sig = parsed.group(1)\n",
    "        sig = re.split('\\) -&gt;', sig, 1)[0]\n",
    "        return sig\n",
    "    else:\n",
    "        print('error')"
   ]
  },
  {
   "cell_type": "code",
   "execution_count": 393,
   "metadata": {},
   "outputs": [],
   "source": [
    "def get_title(func_src):\n",
    "    sig_sect = func_src('dt')[0]\n",
    "    param_pat = r'<span class=\\\"sig-paren\\\">\\(</span>(.*?)<span class=\\\"sig-paren\\\">\\)</span>'\n",
    "    \n",
    "    pat = r'<code class=\\\"sig-.*?\\\">(.*?)</code>'\n",
    "    title = re.findall(pat, str(sig_sect))\n",
    "    ret = ''\n",
    "    for t in title:\n",
    "        ret +=t\n",
    "    return ret"
   ]
  },
  {
   "cell_type": "code",
   "execution_count": 181,
   "metadata": {},
   "outputs": [],
   "source": [
    "def replace_symbol(descp, replace_dict):\n",
    "    \n",
    "    for s in replace_dict:\n",
    "        descp = re.sub(s, replace_dict[s], descp)\n",
    "    return descp\n",
    "def parse_input(sig, replace_dict=None, detect_keywordonly=False):\n",
    "    # parse signature\n",
    "    # input_str: obj, allow_tensor=True, allow_operation=True  \n",
    "    # need to take care of default value with comma, e.g. shape = [2,2]\n",
    "    \n",
    "    keywordonly = False\n",
    "    keywordonly_args = []\n",
    "    \n",
    "    stripWS = lambda txt:'\\''.join( it if i%2 else ''.join(it.split())  # remove space that is not qouted\n",
    "        for i,it in enumerate(txt.split('\\''))  )\n",
    "    \n",
    "    if replace_dict:\n",
    "        sig = replace_symbol(sig, replace_dict)\n",
    "    \n",
    "    # sig = stripWS(sig)\n",
    "    #parsed_str = re.split(',(?![0-9\\(\\)\\[\\]\\{\\}\\'])', sig)  #str(input_str).split(',')\n",
    "    parsed_str = re.split(r',\\s*(?=[a-zA-Z\\*])(?=[^)]*(?:\\(|$))', sig) # parse by comma (,) that is not in brackets\n",
    "    ret = {}\n",
    "\n",
    "    for ps in parsed_str:\n",
    "        ps = re.sub('[\\']', '', ps)\n",
    "        \n",
    "        if ps =='*':\n",
    "            keywordonly = True\n",
    "            continue\n",
    "            \n",
    "        if '=' in ps:\n",
    "            curr_arg, default = ps.split('=',1)\n",
    "            ret[curr_arg] = default\n",
    "            ps = curr_arg\n",
    "\n",
    "        else:\n",
    "            # no default value\n",
    "            ret[ps] = None\n",
    "        if detect_keywordonly and keywordonly:\n",
    "            keywordonly_args.append(ps)\n",
    "\n",
    "    return ret, keywordonly_args"
   ]
  },
  {
   "cell_type": "code",
   "execution_count": 586,
   "metadata": {},
   "outputs": [
    {
     "data": {
      "text/plain": [
       "<dt><code class=\"sig-prename descclassname\">torch.</code><code class=\"sig-name descname\">where</code><span class=\"sig-paren\">(</span><em class=\"sig-param\">condition</em>, <em class=\"sig-param\">x</em>, <em class=\"sig-param\">y</em><span class=\"sig-paren\">)</span> → Tensor</dt>"
      ]
     },
     "execution_count": 586,
     "metadata": {},
     "output_type": "execute_result"
    }
   ],
   "source": [
    "BeautifulSoup(all_func[1], \"html.parser\")('dt')[0]"
   ]
  },
  {
   "cell_type": "code",
   "execution_count": 622,
   "metadata": {},
   "outputs": [],
   "source": [
    "def get_ret_type(func):\n",
    "    replace_dict = {\n",
    "        r'</*(em|span).*?>':'',\n",
    "\n",
    "    }\n",
    "    sig_sect = func('dt')[0]\n",
    "\n",
    "    # try to find -&gt;\n",
    "    sig_pat = r'(-&gt;|→)(.*?)<(a|code|/dt).*?>'\n",
    "    parsed = re.search(sig_pat, str(sig_sect))\n",
    "    ret = ''\n",
    "    if parsed:\n",
    "        sig = parsed.group(2)\n",
    "\n",
    "        ret = replace_symbol(sig, replace_dict)\n",
    "        \n",
    "        \n",
    "\n",
    "    return ret"
   ]
  },
  {
   "cell_type": "code",
   "execution_count": 634,
   "metadata": {},
   "outputs": [],
   "source": [
    "soup2 = parse_html('https://pytorch.org/docs/stable/cuda.html')#(url+offset_list[3])\n",
    "api_func = soup2.find_all('dl',{'class':'function'})\n",
    "api_class = soup2.find_all('dl',{'class':'class'})"
   ]
  },
  {
   "cell_type": "code",
   "execution_count": 635,
   "metadata": {
    "scrolled": true
   },
   "outputs": [
    {
     "name": "stdout",
     "output_type": "stream",
     "text": [
      "0\n",
      "torch.cuda.current_blas_handle\n",
      "\n",
      "1\n",
      "torch.cuda.current_device\n",
      "\n",
      "2\n",
      "torch.cuda.current_stream\n",
      "\n",
      "3\n",
      "torch.cuda.default_stream\n",
      "\n",
      "4\n",
      "torch.cuda.device_count\n",
      "\n",
      "5\n",
      "torch.cuda.get_device_capability\n",
      "\n",
      "6\n",
      "torch.cuda.get_device_name\n",
      "\n",
      "7\n",
      "torch.cuda.init\n",
      "\n",
      "8\n",
      "torch.cuda.ipc_collect\n",
      "\n",
      "9\n",
      "torch.cuda.is_available\n",
      "\n",
      "10\n",
      "torch.cuda.is_initialized\n",
      "\n",
      "11\n",
      "torch.cuda.set_device\n",
      "\n",
      "12\n",
      "torch.cuda.stream\n",
      "\n",
      "13\n",
      "torch.cuda.synchronize\n",
      "\n",
      "14\n",
      "torch.cuda.get_rng_state\n",
      "\n",
      "15\n",
      "torch.cuda.get_rng_state_all\n",
      "\n",
      "16\n",
      "torch.cuda.set_rng_state\n",
      "\n",
      "17\n",
      "torch.cuda.set_rng_state_all\n",
      "\n",
      "18\n",
      "torch.cuda.manual_seed\n",
      "\n",
      "19\n",
      "torch.cuda.manual_seed_all\n",
      "\n",
      "20\n",
      "torch.cuda.seed\n",
      "\n",
      "21\n",
      "torch.cuda.seed_all\n",
      "\n",
      "22\n",
      "torch.cuda.initial_seed\n",
      "\n",
      "23\n",
      "torch.cuda.comm.broadcast\n",
      "\n",
      "24\n",
      "torch.cuda.comm.broadcast_coalesced\n",
      "\n",
      "25\n",
      "torch.cuda.comm.reduce_add\n",
      "\n",
      "26\n",
      "torch.cuda.comm.scatter\n",
      "\n",
      "27\n",
      "torch.cuda.comm.gather\n",
      "\n",
      "28\n",
      "torch.cuda.empty_cache\n",
      "\n",
      "29\n",
      "torch.cuda.memory_stats\n",
      "\n",
      "30\n",
      "torch.cuda.memory_summary\n",
      "\n",
      "31\n",
      "torch.cuda.memory_snapshot\n",
      "\n",
      "32\n",
      "torch.cuda.memory_allocated\n",
      "\n",
      "33\n",
      "torch.cuda.max_memory_allocated\n",
      "\n",
      "34\n",
      "torch.cuda.reset_max_memory_allocated\n",
      "\n",
      "35\n",
      "torch.cuda.memory_reserved\n",
      "\n",
      "36\n",
      "torch.cuda.max_memory_reserved\n",
      "\n",
      "37\n",
      "torch.cuda.memory_cached\n",
      "\n",
      "38\n",
      "torch.cuda.max_memory_cached\n",
      "\n",
      "39\n",
      "torch.cuda.reset_max_memory_cached\n",
      "\n",
      "40\n",
      "torch.cuda.nvtx.mark\n",
      "\n",
      "41\n",
      "torch.cuda.nvtx.range_push\n",
      "\n",
      "42\n",
      "torch.cuda.nvtx.range_pop\n",
      "\n"
     ]
    }
   ],
   "source": [
    "\n",
    "param_pat = r'<span class=\\\"sig-paren\\\">\\(</span>(.*?)<span class=\\\"sig-paren\\\">\\)</span>'\n",
    "for i, f in enumerate(api_func):\n",
    "    name = get_title(f)\n",
    "    raw_param = re.search(param_pat, str(f))\n",
    "    print(i)\n",
    "    print(name)\n",
    "    print(get_ret_type(f))\n",
    "    #print(f('dt')[0])\n",
    "#     print(parse_input(raw_param.group(1), {r'</*em.*?>': '' }, detect_keywordonly=True))\n",
    "# #     print(parse_descp(f))"
   ]
  },
  {
   "cell_type": "code",
   "execution_count": 639,
   "metadata": {
    "scrolled": false
   },
   "outputs": [
    {
     "data": {
      "text/plain": [
       "<dl class=\"function\">\n",
       "<dt id=\"torch.cuda.memory_cached\">\n",
       "<code class=\"sig-prename descclassname\">torch.cuda.</code><code class=\"sig-name descname\">memory_cached</code><span class=\"sig-paren\">(</span><em class=\"sig-param\">device=None</em><span class=\"sig-paren\">)</span><a class=\"reference internal\" href=\"_modules/torch/cuda/memory.html#memory_cached\"><span class=\"viewcode-link\">[source]</span></a><a class=\"headerlink\" href=\"#torch.cuda.memory_cached\" title=\"Permalink to this definition\">¶</a></dt>\n",
       "<dd><p>Deprecated; see <a class=\"reference internal\" href=\"#torch.cuda.memory_reserved\" title=\"torch.cuda.memory_reserved\"><code class=\"xref py py-func docutils literal notranslate\"><span class=\"pre\">memory_reserved()</span></code></a>.</p>\n",
       "</dd></dl>"
      ]
     },
     "execution_count": 639,
     "metadata": {},
     "output_type": "execute_result"
    }
   ],
   "source": [
    "api_func[37]"
   ]
  },
  {
   "cell_type": "code",
   "execution_count": 132,
   "metadata": {
    "scrolled": false
   },
   "outputs": [
    {
     "data": {
      "text/plain": [
       "'bernoulli_'"
      ]
     },
     "execution_count": 132,
     "metadata": {},
     "output_type": "execute_result"
    }
   ],
   "source": [
    "get_title(api_func[1])"
   ]
  },
  {
   "cell_type": "code",
   "execution_count": 161,
   "metadata": {
    "collapsed": true
   },
   "outputs": [
    {
     "name": "stdout",
     "output_type": "stream",
     "text": [
      "/Users/danning/Desktop/deepflaw/DeepFlaw-Code/doc_analysis/pytorch/result/py_torch.csv saved, with 287 rows\n",
      "/Users/danning/Desktop/deepflaw/DeepFlaw-Code/doc_analysis/pytorch/result/py_nn.csv saved, with 257 rows\n",
      "/Users/danning/Desktop/deepflaw/DeepFlaw-Code/doc_analysis/pytorch/result/py_nn.functional.csv saved, with 99 rows\n",
      "/Users/danning/Desktop/deepflaw/DeepFlaw-Code/doc_analysis/pytorch/result/py_tensors.csv saved, with 357 rows\n",
      "/Users/danning/Desktop/deepflaw/DeepFlaw-Code/doc_analysis/pytorch/result/py_tensor_attributes.csv saved, with 3 rows\n",
      "/Users/danning/Desktop/deepflaw/DeepFlaw-Code/doc_analysis/pytorch/result/py_autograd.csv saved, with 34 rows\n",
      "/Users/danning/Desktop/deepflaw/DeepFlaw-Code/doc_analysis/pytorch/result/py_cuda.csv saved, with 59 rows\n",
      "/Users/danning/Desktop/deepflaw/DeepFlaw-Code/doc_analysis/pytorch/result/py_distributed.csv saved, with 26 rows\n",
      "/Users/danning/Desktop/deepflaw/DeepFlaw-Code/doc_analysis/pytorch/result/py_distributions.csv saved, with 388 rows\n",
      "/Users/danning/Desktop/deepflaw/DeepFlaw-Code/doc_analysis/pytorch/result/py_hub.csv saved, with 6 rows\n",
      "/Users/danning/Desktop/deepflaw/DeepFlaw-Code/doc_analysis/pytorch/result/py_jit.csv saved, with 14 rows\n",
      "/Users/danning/Desktop/deepflaw/DeepFlaw-Code/doc_analysis/pytorch/result/py_nn.init.csv saved, with 14 rows\n",
      "/Users/danning/Desktop/deepflaw/DeepFlaw-Code/doc_analysis/pytorch/result/py_onnx.csv saved, with 5 rows\n",
      "/Users/danning/Desktop/deepflaw/DeepFlaw-Code/doc_analysis/pytorch/result/py_optim.csv saved, with 44 rows\n",
      "/Users/danning/Desktop/deepflaw/DeepFlaw-Code/doc_analysis/pytorch/result/py_quantization.csv saved, with 69 rows\n",
      "/Users/danning/Desktop/deepflaw/DeepFlaw-Code/doc_analysis/pytorch/result/py_rpc.csv saved, with 16 rows\n",
      "/Users/danning/Desktop/deepflaw/DeepFlaw-Code/doc_analysis/pytorch/result/py_random.csv saved, with 12 rows\n",
      "/Users/danning/Desktop/deepflaw/DeepFlaw-Code/doc_analysis/pytorch/result/py_sparse.csv saved, with 34 rows\n",
      "/Users/danning/Desktop/deepflaw/DeepFlaw-Code/doc_analysis/pytorch/result/py_storage.csv saved, with 33 rows\n",
      "/Users/danning/Desktop/deepflaw/DeepFlaw-Code/doc_analysis/pytorch/result/py_bottleneck.csv saved, with 0 rows\n",
      "/Users/danning/Desktop/deepflaw/DeepFlaw-Code/doc_analysis/pytorch/result/py_checkpoint.csv saved, with 2 rows\n",
      "/Users/danning/Desktop/deepflaw/DeepFlaw-Code/doc_analysis/pytorch/result/py_cpp_extension.csv saved, with 8 rows\n",
      "/Users/danning/Desktop/deepflaw/DeepFlaw-Code/doc_analysis/pytorch/result/py_data.csv saved, with 16 rows\n",
      "/Users/danning/Desktop/deepflaw/DeepFlaw-Code/doc_analysis/pytorch/result/py_dlpack.csv saved, with 2 rows\n",
      "/Users/danning/Desktop/deepflaw/DeepFlaw-Code/doc_analysis/pytorch/result/py_model_zoo.csv saved, with 1 rows\n",
      "/Users/danning/Desktop/deepflaw/DeepFlaw-Code/doc_analysis/pytorch/result/py_tensorboard.csv saved, with 19 rows\n",
      "/Users/danning/Desktop/deepflaw/DeepFlaw-Code/doc_analysis/pytorch/result/py_type_info.csv saved, with 2 rows\n",
      "/Users/danning/Desktop/deepflaw/DeepFlaw-Code/doc_analysis/pytorch/result/py_named_tensor.csv saved, with 9 rows\n",
      "/Users/danning/Desktop/deepflaw/DeepFlaw-Code/doc_analysis/pytorch/result/py_name_inference.csv saved, with 0 rows\n",
      "/Users/danning/Desktop/deepflaw/DeepFlaw-Code/doc_analysis/pytorch/result/py___config__.csv saved, with 0 rows\n",
      "/Users/danning/Desktop/deepflaw/DeepFlaw-Code/doc_analysis/pytorch/result/py_total.csv saved, with 1816 rows\n"
     ]
    }
   ],
   "source": [
    "total = []\n",
    "for offset in offset_list:\n",
    "    soup2 = parse_html(url+offset)\n",
    "    \n",
    "    total += result\n",
    "    result = []\n",
    "\n",
    "\n",
    "    api_func = soup2.find_all('dl',{'class':'function'})\n",
    "    api_class = soup2.find_all('dl',{'class':'class'})\n",
    "\n",
    "\n",
    "    for func in api_func:\n",
    "        if len(func('dt'))>=1 and func('dt')[0].get('id')!=None:\n",
    "            func_name = func('dt')[0].get('id')\n",
    "        else:\n",
    "            func_name = []\n",
    "            for fn in func('code'):\n",
    "                if fn.get('class')[0].startswith('sig-'):\n",
    "                    func_name.append(fn.contents[0])\n",
    "            func_name= ''.join(func_name)\n",
    "        #print(func_name)\n",
    "\n",
    "        # get parameters\n",
    "        input_para = []\n",
    "        paras = func.find_all(class_='sig-param')\n",
    "        for p in paras:\n",
    "            input_para.append(p.contents[0])\n",
    "\n",
    "        # get href\n",
    "        href = func.find_all(class_='headerlink')\n",
    "        if len(href)>1:\n",
    "            print(href)\n",
    "        href = url+offset+href[0].get('href') if href!=[] else ''\n",
    "\n",
    "        # get source code link if any\n",
    "        source_code = ''\n",
    "        try:\n",
    "            for ri in func.find_all(class_='reference internal'):\n",
    "                if ri('span')[0].get('class')[0] == 'viewcode-link':\n",
    "                    source_code = url+ri.get('href')\n",
    "                    break\n",
    "        except:\n",
    "            pass\n",
    "\n",
    "        result.append(['', 'function', func_name, ','.join(input_para), href, source_code])\n",
    "        \n",
    "    for cls in api_class:\n",
    "        cls_name = cls('dt')[0].get('id')\n",
    "        # add an row of class\n",
    "        \n",
    "        # get href\n",
    "        href = cls('dt')[0].find_all(class_='headerlink')\n",
    "        if len(href)>1:\n",
    "            print(href)\n",
    "        href = url+offset+href[0].get('href') if href!=[] else ''\n",
    "        \n",
    "        # get source code link if any\n",
    "        source_code = ''\n",
    "        try:\n",
    "            for ri in cls('dt')[0].find_all(class_='reference internal'):\n",
    "                if ri('span')[0].get('class')[0] == 'viewcode-link':\n",
    "                    source_code = url+ri.get('href')\n",
    "                    break\n",
    "        except:\n",
    "            pass\n",
    "        \n",
    "        # input parameters\n",
    "        input_para = []\n",
    "        paras = cls('dt')[0].find_all(class_='sig-param')\n",
    "        for p in paras:\n",
    "            input_para.append(p.contents[0])\n",
    "        \n",
    "        result.append([cls_name, 'class', '', ','.join(input_para), href, source_code])\n",
    "        \n",
    "            \n",
    "        for acdl in cls('dl'):\n",
    "\n",
    "            if acdl.get('class') != None and acdl.get('class')[0] in ['method', 'attribute'] :\n",
    "                func_name = acdl.find_all(class_='sig-name descname')\n",
    "                href = acdl.find_all(class_='headerlink')\n",
    "\n",
    "                # get input parameters\n",
    "                paras = acdl.find_all(class_='sig-param')\n",
    "                input_para = []\n",
    "                for p in paras:\n",
    "                    input_para.append(p.contents[0])\n",
    "\n",
    "\n",
    "#                 if len(func_name)>1:\n",
    "#                     print(func_name)\n",
    "\n",
    "#                 if len(href)>1:\n",
    "#                     print(href)\n",
    "                #print(func_name)\n",
    "                func_name = func_name[0].contents[0] if func_name!=[] else ''\n",
    "                href = url+offset+href[0].get('href') if href!=[] else ''\n",
    "\n",
    "                source_code = ''\n",
    "                try:\n",
    "                    for ri in acdl.find_all(class_='reference internal'):\n",
    "                        if ri('span')[0].get('class')[0] == 'viewcode-link':\n",
    "                            source_code = url+ri.get('href')\n",
    "                            break\n",
    "                except:\n",
    "                    pass\n",
    "\n",
    "                result.append([cls_name, acdl.get('class')[0], func_name, ','.join(input_para), href, source_code])\n",
    "                #print(func_name+'\\t'+str(input_para)+'\\t'+href+'\\t'+source_code )\n",
    "    \n",
    "    file_save = '/Users/danning/Desktop/deepflaw/DeepFlaw-Code/doc_analysis/pytorch/pytorch_pydoc_page/result/py_{}.csv'.format(offset[:-5])\n",
    "    with open(file_save, 'w', newline='') as csvfile:\n",
    "        csv_writer = csv.writer(csvfile, delimiter=',', quotechar='\"', quoting=csv.QUOTE_MINIMAL)\n",
    "        csv_writer.writerow(['class', 'Type', 'name', 'input', 'link', 'source_code'])\n",
    "        for r in result:\n",
    "            csv_writer.writerow(r)\n",
    "        print('{} saved, with {} rows'.format(file_save, len(result)))\n",
    "        \n",
    "file_save = '/Users/danning/Desktop/deepflaw/DeepFlaw-Code/doc_analysis/pytorch/result/py_total.csv'.format(offset[:-5])\n",
    "with open(file_save, 'w', newline='') as csvfile:\n",
    "    csv_writer = csv.writer(csvfile, delimiter=',', quotechar='\"', quoting=csv.QUOTE_MINIMAL)\n",
    "    csv_writer.writerow(['class', 'Type', 'name', 'input', 'link', 'source_code'])\n",
    "    for r in total:\n",
    "        csv_writer.writerow(r)\n",
    "    print('{} saved, with {} rows'.format(file_save, len(total)))"
   ]
  }
 ],
 "metadata": {
  "kernelspec": {
   "display_name": "Env:crawler",
   "language": "python",
   "name": "crawler"
  },
  "language_info": {
   "codemirror_mode": {
    "name": "ipython",
    "version": 3
   },
   "file_extension": ".py",
   "mimetype": "text/x-python",
   "name": "python",
   "nbconvert_exporter": "python",
   "pygments_lexer": "ipython3",
   "version": "3.6.9"
  }
 },
 "nbformat": 4,
 "nbformat_minor": 2
}
