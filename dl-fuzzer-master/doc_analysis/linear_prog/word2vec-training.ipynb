{
 "cells": [
  {
   "cell_type": "code",
   "execution_count": null,
   "metadata": {},
   "outputs": [],
   "source": [
    "!pip install gensim # if neeeded"
   ]
  },
  {
   "cell_type": "code",
   "execution_count": 1,
   "metadata": {},
   "outputs": [],
   "source": [
    "from gensim.test.utils import common_texts"
   ]
  },
  {
   "cell_type": "code",
   "execution_count": 2,
   "metadata": {},
   "outputs": [],
   "source": [
    "from gensim.models import Word2Vec"
   ]
  },
  {
   "cell_type": "code",
   "execution_count": 3,
   "metadata": {},
   "outputs": [],
   "source": [
    "import yaml\n",
    "import os"
   ]
  },
  {
   "cell_type": "code",
   "execution_count": 4,
   "metadata": {},
   "outputs": [],
   "source": [
    "from util import *"
   ]
  },
  {
   "cell_type": "code",
   "execution_count": null,
   "metadata": {},
   "outputs": [],
   "source": []
  },
  {
   "cell_type": "code",
   "execution_count": 4,
   "metadata": {
    "scrolled": true
   },
   "outputs": [],
   "source": [
    "def load_data(folder_path):\n",
    "    data = []\n",
    "    yaml_files = get_file_list(folder_path)\n",
    "    for f in yaml_files:\n",
    "        parser = read_yaml(os.path.join(folder_path, f))\n",
    "        for arg in (parser['constraints']):\n",
    "            data += parser['constraints'][arg].get('normalized_descp', [])\n",
    "            if 'normalized_default' in parser['constraints'][arg]:\n",
    "                data.append(parser['constraints'][arg]['normalized_default'])\n",
    "            if 'normalized_docdtype' in parser['constraints'][arg]:\n",
    "                data.append(parser['constraints'][arg]['normalized_docdtype'])\n",
    "    return data\n",
    "                \n",
    "            \n",
    "sentences = []\n",
    "sentences = load_data('./normalized_doc_icse/tf/')\n",
    "sentences += load_data('./normalized_doc_icse/pt/')\n",
    "sentences += load_data('./normalized_doc_icse/mx/')\n",
    "\n",
    "\n",
    "\n",
    "# yaml_files = os.listdir(\"normalized_doc/mx\")\n",
    "\n",
    "\n",
    "\n",
    "            \n",
    "            \n",
    "# for yaml_file in yaml_files:\n",
    "#     parser = yaml.safe_load(open(\"mx/\" + yaml_file, \"r\"))\n",
    "#     for arg in (parser['constraints']):\n",
    "#         norm_sent = (parser['constraints'][arg]['normalized_descp'])\n",
    "#         if [] != norm_sent:\n",
    "#             sentences += (parser['constraints'][arg]['normalized_descp'])\n",
    "\n",
    "            \n",
    "# yaml_files = os.listdir(\"normalized_doc/pt\")\n",
    "\n",
    "# for yaml_file in yaml_files:\n",
    "#     parser = yaml.safe_load(open(\"pt/\" + yaml_file, \"r\"))\n",
    "#     for arg in (parser['constraints']):\n",
    "#         norm_sent = (parser['constraints'][arg]['normalized_descp'])\n",
    "#         if [] != norm_sent:\n",
    "#             sentences += (parser['constraints'][arg]['normalized_descp'])\n",
    "            \n",
    "            \n",
    "            \n",
    "# yaml_files = os.listdir(\"normalized_doc/tf\")\n",
    "\n",
    "# for yaml_file in yaml_files:\n",
    "#     parser = yaml.safe_load(open(\"tf/\" + yaml_file, \"r\"))\n",
    "#     for arg in (parser['constraints']):\n",
    "#         norm_sent = (parser['constraints'][arg]['normalized_descp'])\n",
    "#         if [] != norm_sent:\n",
    "#             sentences += (parser['constraints'][arg]['normalized_descp'])"
   ]
  },
  {
   "cell_type": "code",
   "execution_count": 5,
   "metadata": {},
   "outputs": [
    {
     "data": {
      "text/plain": [
       "30020"
      ]
     },
     "execution_count": 5,
     "metadata": {},
     "output_type": "execute_result"
    }
   ],
   "source": [
    "len(sentences)"
   ]
  },
  {
   "cell_type": "code",
   "execution_count": null,
   "metadata": {},
   "outputs": [],
   "source": [
    "# to convert from ['hello world'] to [['hello', 'world']]\n",
    "p_sentences = [sen.split() for sen in sentences]"
   ]
  },
  {
   "cell_type": "code",
   "execution_count": null,
   "metadata": {},
   "outputs": [],
   "source": []
  },
  {
   "cell_type": "code",
   "execution_count": null,
   "metadata": {},
   "outputs": [],
   "source": []
  },
  {
   "cell_type": "code",
   "execution_count": null,
   "metadata": {},
   "outputs": [],
   "source": [
    "model = Word2Vec(sentences=p_sentences, window=5, min_count=1, workers=1)"
   ]
  },
  {
   "cell_type": "code",
   "execution_count": null,
   "metadata": {},
   "outputs": [],
   "source": [
    "model.train(p_sentences, total_examples=1, epochs=100)"
   ]
  },
  {
   "cell_type": "code",
   "execution_count": null,
   "metadata": {},
   "outputs": [],
   "source": [
    "model.wv.similarity('shape', 'D_STRUCTURE')"
   ]
  },
  {
   "cell_type": "code",
   "execution_count": null,
   "metadata": {},
   "outputs": [],
   "source": [
    "model.wv.similarity(\"shape\", 'CONSTANT_NUM')"
   ]
  },
  {
   "cell_type": "code",
   "execution_count": null,
   "metadata": {},
   "outputs": [],
   "source": [
    "model.wv.similarity(\"shape\", 'CONSTANT_FLOAT')"
   ]
  },
  {
   "cell_type": "code",
   "execution_count": null,
   "metadata": {},
   "outputs": [],
   "source": [
    "model.wv.similarity(\"shape\", 'CONSTANT_BOOL')"
   ]
  },
  {
   "cell_type": "code",
   "execution_count": null,
   "metadata": {},
   "outputs": [],
   "source": []
  },
  {
   "cell_type": "code",
   "execution_count": null,
   "metadata": {},
   "outputs": [],
   "source": []
  },
  {
   "cell_type": "code",
   "execution_count": null,
   "metadata": {},
   "outputs": [],
   "source": [
    "model.wv.similarity('weight', 'D_STRUCTURE')"
   ]
  },
  {
   "cell_type": "code",
   "execution_count": null,
   "metadata": {},
   "outputs": [],
   "source": [
    "model.wv.similarity(\"weight\", 'CONSTANT_NUM')"
   ]
  },
  {
   "cell_type": "code",
   "execution_count": null,
   "metadata": {},
   "outputs": [],
   "source": [
    "model.wv.similarity(\"weight\", 'CONSTANT_FLOAT')"
   ]
  },
  {
   "cell_type": "code",
   "execution_count": null,
   "metadata": {},
   "outputs": [],
   "source": [
    "model.wv.similarity(\"weight\", 'CONSTANT_BOOL')"
   ]
  },
  {
   "cell_type": "code",
   "execution_count": null,
   "metadata": {},
   "outputs": [],
   "source": []
  },
  {
   "cell_type": "code",
   "execution_count": null,
   "metadata": {},
   "outputs": [],
   "source": []
  },
  {
   "cell_type": "code",
   "execution_count": null,
   "metadata": {},
   "outputs": [],
   "source": [
    "model.wv.similarity(\"number\", 'CONSTANT_NUM')"
   ]
  },
  {
   "cell_type": "code",
   "execution_count": null,
   "metadata": {},
   "outputs": [],
   "source": [
    "model.wv.similarity(\"number\", 'CONSTANT_FLOAT')"
   ]
  },
  {
   "cell_type": "code",
   "execution_count": null,
   "metadata": {},
   "outputs": [],
   "source": [
    "model.wv.similarity(\"number\", 'CONSTANT_BOOL')"
   ]
  },
  {
   "cell_type": "code",
   "execution_count": null,
   "metadata": {},
   "outputs": [],
   "source": [
    "model.wv.similarity('number', 'D_STRUCTURE')"
   ]
  },
  {
   "cell_type": "code",
   "execution_count": null,
   "metadata": {},
   "outputs": [],
   "source": []
  },
  {
   "cell_type": "code",
   "execution_count": null,
   "metadata": {},
   "outputs": [],
   "source": []
  },
  {
   "cell_type": "code",
   "execution_count": null,
   "metadata": {},
   "outputs": [],
   "source": []
  },
  {
   "cell_type": "code",
   "execution_count": null,
   "metadata": {},
   "outputs": [],
   "source": []
  },
  {
   "cell_type": "code",
   "execution_count": null,
   "metadata": {},
   "outputs": [],
   "source": []
  },
  {
   "cell_type": "code",
   "execution_count": null,
   "metadata": {},
   "outputs": [],
   "source": []
  }
 ],
 "metadata": {
  "kernelspec": {
   "display_name": "Python 3",
   "language": "python",
   "name": "python3"
  },
  "language_info": {
   "codemirror_mode": {
    "name": "ipython",
    "version": 3
   },
   "file_extension": ".py",
   "mimetype": "text/x-python",
   "name": "python",
   "nbconvert_exporter": "python",
   "pygments_lexer": "ipython3",
   "version": "3.6.9"
  }
 },
 "nbformat": 4,
 "nbformat_minor": 4
}
