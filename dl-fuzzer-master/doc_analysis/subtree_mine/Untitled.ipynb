{
 "cells": [
  {
   "cell_type": "code",
   "execution_count": 5,
   "metadata": {},
   "outputs": [],
   "source": [
    "import os\n",
    "from util import *\n",
    "# from mlxtend.preprocessing import TransactionEncoder\n",
    "import pandas as pd\n",
    "\n",
    "from nltk.parse.corenlp import CoreNLPDependencyParser, CoreNLPParser\n",
    "dep_parser = CoreNLPDependencyParser(url='http://localhost:9000')\n",
    "# nlp_parser = CoreNLPParser(url='http://localhost:9000')\n"
   ]
  },
  {
   "cell_type": "code",
   "execution_count": 6,
   "metadata": {},
   "outputs": [],
   "source": [
    "sent = 'Number of top scoring boxes to keep'\n"
   ]
  },
  {
   "cell_type": "code",
   "execution_count": 7,
   "metadata": {},
   "outputs": [],
   "source": [
    "parse, = dep_parser.raw_parse(sent)\n",
    "parsing_tree = parse.tree()\n",
    "# horizontal_format = tree2horizontal(parsing_tree)\n",
    "#horizontal_format = [x.lower() for x in horizontal_format]\n",
    "# here horizontal_format is a list of str.\n"
   ]
  },
  {
   "cell_type": "code",
   "execution_count": 10,
   "metadata": {},
   "outputs": [
    {
     "data": {
      "image/png": "[encoded data removed]",
      "text/plain": [
       "Tree('keep', [Tree('Number', [Tree('boxes', ['of', 'top', 'scoring'])]), 'to'])"
      ]
     },
     "execution_count": 10,
     "metadata": {},
     "output_type": "execute_result"
    }
   ],
   "source": [
    "parsing_tree"
   ]
  },
  {
   "cell_type": "code",
   "execution_count": 12,
   "metadata": {},
   "outputs": [
    {
     "data": {
      "image/png": "[encoded data removed]",
      "text/plain": [
       "Tree('ROOT', [Tree('NP', [Tree('NP', [Tree('NN', ['Number'])]), Tree('PP', [Tree('IN', ['of']), Tree('NP', [Tree('NP', [Tree('JJ', ['top']), Tree('VBG', ['scoring']), Tree('NNS', ['boxes'])]), Tree('SBAR', [Tree('S', [Tree('VP', [Tree('TO', ['to']), Tree('VP', [Tree('VB', ['keep'])])])])])])])])])"
      ]
     },
     "execution_count": 12,
     "metadata": {},
     "output_type": "execute_result"
    }
   ],
   "source": [
    "nlp_parser = CoreNLPParser(url='http://localhost:9000')\n",
    "parse, = nlp_parser.raw_parse(sent)\n",
    "parse"
   ]
  },
  {
   "cell_type": "code",
   "execution_count": 14,
   "metadata": {},
   "outputs": [
    {
     "ename": "AttributeError",
     "evalue": "'Tree' object has no attribute 'tree'",
     "output_type": "error",
     "traceback": [
      "\u001b[0;31m---------------------------------------------------------------------------\u001b[0m",
      "\u001b[0;31mAttributeError\u001b[0m                            Traceback (most recent call last)",
      "\u001b[0;32m<ipython-input-14-92535508559a>\u001b[0m in \u001b[0;36m<module>\u001b[0;34m()\u001b[0m\n\u001b[0;32m----> 1\u001b[0;31m \u001b[0mparse\u001b[0m\u001b[0;34m.\u001b[0m\u001b[0mtree\u001b[0m\u001b[0;34m\u001b[0m\u001b[0m\n\u001b[0m",
      "\u001b[0;31mAttributeError\u001b[0m: 'Tree' object has no attribute 'tree'"
     ]
    }
   ],
   "source": [
    "parse.tree"
   ]
  },
  {
   "cell_type": "code",
   "execution_count": 2,
   "metadata": {
    "scrolled": false
   },
   "outputs": [
    {
     "name": "stdout",
     "output_type": "stream",
     "text": [
      "$: dollar\n",
      "    $ -$ --$ A$ C$ HK$ M$ NZ$ S$ U.S.$ US$\n",
      "'': closing quotation mark\n",
      "    ' ''\n",
      "(: opening parenthesis\n",
      "    ( [ {\n",
      "): closing parenthesis\n",
      "    ) ] }\n",
      ",: comma\n",
      "    ,\n",
      "--: dash\n",
      "    --\n",
      ".: sentence terminator\n",
      "    . ! ?\n",
      ":: colon or ellipsis\n",
      "    : ; ...\n",
      "CC: conjunction, coordinating\n",
      "    & 'n and both but either et for less minus neither nor or plus so\n",
      "    therefore times v. versus vs. whether yet\n",
      "CD: numeral, cardinal\n",
      "    mid-1890 nine-thirty forty-two one-tenth ten million 0.5 one forty-\n",
      "    seven 1987 twenty '79 zero two 78-degrees eighty-four IX '60s .025\n",
      "    fifteen 271,124 dozen quintillion DM2,000 ...\n",
      "DT: determiner\n",
      "    all an another any both del each either every half la many much nary\n",
      "    neither no some such that the them these this those\n",
      "EX: existential there\n",
      "    there\n",
      "FW: foreign word\n",
      "    gemeinschaft hund ich jeux habeas Haementeria Herr K'ang-si vous\n",
      "    lutihaw alai je jour objets salutaris fille quibusdam pas trop Monte\n",
      "    terram fiche oui corporis ...\n",
      "IN: preposition or conjunction, subordinating\n",
      "    astride among uppon whether out inside pro despite on by throughout\n",
      "    below within for towards near behind atop around if like until below\n",
      "    next into if beside ...\n",
      "JJ: adjective or numeral, ordinal\n",
      "    third ill-mannered pre-war regrettable oiled calamitous first separable\n",
      "    ectoplasmic battery-powered participatory fourth still-to-be-named\n",
      "    multilingual multi-disciplinary ...\n",
      "JJR: adjective, comparative\n",
      "    bleaker braver breezier briefer brighter brisker broader bumper busier\n",
      "    calmer cheaper choosier cleaner clearer closer colder commoner costlier\n",
      "    cozier creamier crunchier cuter ...\n",
      "JJS: adjective, superlative\n",
      "    calmest cheapest choicest classiest cleanest clearest closest commonest\n",
      "    corniest costliest crassest creepiest crudest cutest darkest deadliest\n",
      "    dearest deepest densest dinkiest ...\n",
      "LS: list item marker\n",
      "    A A. B B. C C. D E F First G H I J K One SP-44001 SP-44002 SP-44005\n",
      "    SP-44007 Second Third Three Two * a b c d first five four one six three\n",
      "    two\n",
      "MD: modal auxiliary\n",
      "    can cannot could couldn't dare may might must need ought shall should\n",
      "    shouldn't will would\n",
      "NN: noun, common, singular or mass\n",
      "    common-carrier cabbage knuckle-duster Casino afghan shed thermostat\n",
      "    investment slide humour falloff slick wind hyena override subhumanity\n",
      "    machinist ...\n",
      "NNP: noun, proper, singular\n",
      "    Motown Venneboerger Czestochwa Ranzer Conchita Trumplane Christos\n",
      "    Oceanside Escobar Kreisler Sawyer Cougar Yvette Ervin ODI Darryl CTCA\n",
      "    Shannon A.K.C. Meltex Liverpool ...\n",
      "NNPS: noun, proper, plural\n",
      "    Americans Americas Amharas Amityvilles Amusements Anarcho-Syndicalists\n",
      "    Andalusians Andes Andruses Angels Animals Anthony Antilles Antiques\n",
      "    Apache Apaches Apocrypha ...\n",
      "NNS: noun, common, plural\n",
      "    undergraduates scotches bric-a-brac products bodyguards facets coasts\n",
      "    divestitures storehouses designs clubs fragrances averages\n",
      "    subjectivists apprehensions muses factory-jobs ...\n",
      "PDT: pre-determiner\n",
      "    all both half many quite such sure this\n",
      "POS: genitive marker\n",
      "    ' 's\n",
      "PRP: pronoun, personal\n",
      "    hers herself him himself hisself it itself me myself one oneself ours\n",
      "    ourselves ownself self she thee theirs them themselves they thou thy us\n",
      "PRP$: pronoun, possessive\n",
      "    her his mine my our ours their thy your\n",
      "RB: adverb\n",
      "    occasionally unabatingly maddeningly adventurously professedly\n",
      "    stirringly prominently technologically magisterially predominately\n",
      "    swiftly fiscally pitilessly ...\n",
      "RBR: adverb, comparative\n",
      "    further gloomier grander graver greater grimmer harder harsher\n",
      "    healthier heavier higher however larger later leaner lengthier less-\n",
      "    perfectly lesser lonelier longer louder lower more ...\n",
      "RBS: adverb, superlative\n",
      "    best biggest bluntest earliest farthest first furthest hardest\n",
      "    heartiest highest largest least less most nearest second tightest worst\n",
      "RP: particle\n",
      "    aboard about across along apart around aside at away back before behind\n",
      "    by crop down ever fast for forth from go high i.e. in into just later\n",
      "    low more off on open out over per pie raising start teeth that through\n",
      "    under unto up up-pp upon whole with you\n",
      "SYM: symbol\n",
      "    % & ' '' ''. ) ). * + ,. < = > @ A[fj] U.S U.S.S.R * ** ***\n",
      "TO: \"to\" as preposition or infinitive marker\n",
      "    to\n",
      "UH: interjection\n",
      "    Goodbye Goody Gosh Wow Jeepers Jee-sus Hubba Hey Kee-reist Oops amen\n",
      "    huh howdy uh dammit whammo shucks heck anyways whodunnit honey golly\n",
      "    man baby diddle hush sonuvabitch ...\n",
      "VB: verb, base form\n",
      "    ask assemble assess assign assume atone attention avoid bake balkanize\n",
      "    bank begin behold believe bend benefit bevel beware bless boil bomb\n",
      "    boost brace break bring broil brush build ...\n",
      "VBD: verb, past tense\n",
      "    dipped pleaded swiped regummed soaked tidied convened halted registered\n",
      "    cushioned exacted snubbed strode aimed adopted belied figgered\n",
      "    speculated wore appreciated contemplated ...\n",
      "VBG: verb, present participle or gerund\n",
      "    telegraphing stirring focusing angering judging stalling lactating\n",
      "    hankerin' alleging veering capping approaching traveling besieging\n",
      "    encrypting interrupting erasing wincing ...\n",
      "VBN: verb, past participle\n",
      "    multihulled dilapidated aerosolized chaired languished panelized used\n",
      "    experimented flourished imitated reunifed factored condensed sheared\n",
      "    unsettled primed dubbed desired ...\n",
      "VBP: verb, present tense, not 3rd person singular\n",
      "    predominate wrap resort sue twist spill cure lengthen brush terminate\n",
      "    appear tend stray glisten obtain comprise detest tease attract\n",
      "    emphasize mold postpone sever return wag ...\n",
      "VBZ: verb, present tense, 3rd person singular\n",
      "    bases reconstructs marks mixes displeases seals carps weaves snatches\n",
      "    slumps stretches authorizes smolders pictures emerges stockpiles\n",
      "    seduces fizzes uses bolsters slaps speaks pleads ...\n",
      "WDT: WH-determiner\n",
      "    that what whatever which whichever\n",
      "WP: WH-pronoun\n",
      "    that what whatever whatsoever which who whom whosoever\n",
      "WP$: WH-pronoun, possessive\n",
      "    whose\n",
      "WRB: Wh-adverb\n",
      "    how however whence whenever where whereby whereever wherein whereof why\n",
      "``: opening quotation mark\n",
      "    ` ``\n"
     ]
    }
   ],
   "source": [
    "import nltk\n",
    "nltk.help.upenn_tagset()"
   ]
  },
  {
   "cell_type": "code",
   "execution_count": 102,
   "metadata": {},
   "outputs": [
    {
     "name": "stdout",
     "output_type": "stream",
     "text": [
      "a\tDT\t2\tdet\n",
      "D_STRUCTURE\tNN\t0\tROOT\n",
      "of\tIN\t5\tcase\n",
      "type\tNN\t5\tcompound\n",
      "D_TYPE\tNN\t2\tnmod\n",
      "\n"
     ]
    }
   ],
   "source": [
    "print(tree.to_conll(4))  "
   ]
  },
  {
   "cell_type": "code",
   "execution_count": 115,
   "metadata": {},
   "outputs": [],
   "source": [
    "wordset = load_data4mining([sent])\n",
    "encoding_df = get_encoded_df(wordset)\n",
    "# word_map: word->idx\n",
    "# word_map_inverse: idx->word\n",
    "word_map, word_map_inverse = get_word_map(encoding_df)\n",
    "encoded_tree = encode_horizontal_tree(0, horizontal_format, word_map)\n",
    "# save_list(dataset, os.path.join(save_path, 'mining_input'))"
   ]
  },
  {
   "cell_type": "code",
   "execution_count": 117,
   "metadata": {},
   "outputs": [
    {
     "data": {
      "text/plain": [
       "'checked if -1 indices constant_bool -1 -1 are -1 make to -1 sure sorted they -1 are -1 order in -1 lexicographic -1 -1 -1 -1 -1 and -1 are that -1 there -1 repeats no -1 -1 -1 -1'"
      ]
     },
     "execution_count": 117,
     "metadata": {},
     "output_type": "execute_result"
    }
   ],
   "source": [
    "' '.join(horizontal_format)"
   ]
  },
  {
   "cell_type": "code",
   "execution_count": 61,
   "metadata": {},
   "outputs": [
    {
     "data": {
      "text/plain": [
       "{'a': 0, 'an': 1, 'd_structure': 2, 'd_type': 3, 'of': 4, 'or': 5}"
      ]
     },
     "execution_count": 61,
     "metadata": {},
     "output_type": "execute_result"
    }
   ],
   "source": [
    "word_map"
   ]
  },
  {
   "cell_type": "code",
   "execution_count": 62,
   "metadata": {},
   "outputs": [
    {
     "data": {
      "text/plain": [
       "{0: 'a', 1: 'an', 2: 'd_structure', 3: 'd_type', 4: 'of', 5: 'or'}"
      ]
     },
     "execution_count": 62,
     "metadata": {},
     "output_type": "execute_result"
    }
   ],
   "source": [
    "word_map_inverse"
   ]
  },
  {
   "cell_type": "code",
   "execution_count": 63,
   "metadata": {},
   "outputs": [
    {
     "data": {
      "text/plain": [
       "'0 0 14 3 1 -1 5 -1 2 0 -1 -1 3 4 -1 -1 -1'"
      ]
     },
     "execution_count": 63,
     "metadata": {},
     "output_type": "execute_result"
    }
   ],
   "source": [
    "encoded_tree"
   ]
  },
  {
   "cell_type": "code",
   "execution_count": 64,
   "metadata": {},
   "outputs": [],
   "source": [
    "save_list([encoded_tree, ''], './TreeMiner/tmp_data')"
   ]
  },
  {
   "cell_type": "code",
   "execution_count": 65,
   "metadata": {},
   "outputs": [],
   "source": [
    "import os"
   ]
  },
  {
   "cell_type": "code",
   "execution_count": 66,
   "metadata": {},
   "outputs": [
    {
     "data": {
      "text/plain": [
       "0"
      ]
     },
     "execution_count": 66,
     "metadata": {},
     "output_type": "execute_result"
    }
   ],
   "source": [
    "os.system('./TreeMiner/treeminer -i ./TreeMiner/tmp_data -S 1 -o -l > ./TreeMiner/tmp_out')"
   ]
  },
  {
   "cell_type": "code",
   "execution_count": 84,
   "metadata": {},
   "outputs": [],
   "source": [
    "def get_all_subtree(sent, horizontal_format):\n",
    "    decoded_subtree_list = []\n",
    "    mining_input_path = './TreeMiner/tmp_data'\n",
    "    mining_output_path  = './TreeMiner/tmp_out'\n",
    "    wordset = load_data4mining([sent])\n",
    "    encoding_df = get_encoded_df(wordset)\n",
    "    # word_map: word->idx\n",
    "    # word_map_inverse: idx->word\n",
    "    word_map, word_map_inverse = get_word_map(encoding_df)\n",
    "    encoded_tree = encode_horizontal_tree(0, horizontal_format, word_map)\n",
    "    save_list([encoded_tree, ''], mining_input_path)\n",
    "    exe_var = os.system('./TreeMiner/treeminer -i ./TreeMiner/tmp_data -S 1 -o -l > %s' % mining_output_path)\n",
    "    assert exe_var == 0\n",
    "\n",
    "\n",
    "    mine_result = read_file(mining_output_path)[3:]\n",
    "    mine_result = mine_result[:-1]\n",
    "    for l in mine_result:\n",
    "        if l.startswith('ITER') or l.startswith('Tree:'):\n",
    "            continue\n",
    "        else:   # frequent subtree with its frequency\n",
    "            subtree, freq = parse_subtree(l)\n",
    "            assert freq==1\n",
    "            decoded_subtree_list.append(decode_subtree(subtree, word_map_inverse))\n",
    "    return decoded_subtree_list"
   ]
  },
  {
   "cell_type": "code",
   "execution_count": 85,
   "metadata": {},
   "outputs": [
    {
     "data": {
      "text/plain": [
       "['value a', 'value d_type', 'value a -1 d_type']"
      ]
     },
     "execution_count": 85,
     "metadata": {},
     "output_type": "execute_result"
    }
   ],
   "source": [
    "get_all_subtree(sent, horizontal_format)"
   ]
  },
  {
   "cell_type": "code",
   "execution_count": 87,
   "metadata": {},
   "outputs": [],
   "source": [
    "import subprocess"
   ]
  },
  {
   "cell_type": "code",
   "execution_count": 102,
   "metadata": {},
   "outputs": [],
   "source": [
    "p = subprocess.Popen(['bash', 'run_treeminer.sh'])\n",
    "try:\n",
    "    p.wait(0.5)\n",
    "except subprocess.TimeoutExpired:\n",
    "    p.kill()"
   ]
  },
  {
   "cell_type": "code",
   "execution_count": 103,
   "metadata": {},
   "outputs": [],
   "source": [
    "mine_result = read_file('./TreeMiner/tmp_out')[3:]"
   ]
  },
  {
   "cell_type": "code",
   "execution_count": 104,
   "metadata": {},
   "outputs": [
    {
     "data": {
      "text/plain": [
       "[]"
      ]
     },
     "execution_count": 104,
     "metadata": {},
     "output_type": "execute_result"
    }
   ],
   "source": [
    "mine_result"
   ]
  },
  {
   "cell_type": "code",
   "execution_count": 105,
   "metadata": {},
   "outputs": [],
   "source": [
    "l = '9 5 15 10 8 -1 -1 0 14 -1 3 2 -1 13 -1 -1 1 -1 7 4 11 -1 13 -1 12 -1 6 -1 -1 15 10 8 -1 -1 0 14 -1 3 2 -1 13 -1 1 -1 7 2 -1 13 -1 4 11 -1 13 -1 12 -1 6 -1 -1 -1 -1 -1 -1 -1 -1 -1 -1 -1'"
   ]
  },
  {
   "cell_type": "code",
   "execution_count": 108,
   "metadata": {},
   "outputs": [
    {
     "data": {
      "text/plain": [
       "68"
      ]
     },
     "execution_count": 108,
     "metadata": {},
     "output_type": "execute_result"
    }
   ],
   "source": [
    "len(l.split())"
   ]
  },
  {
   "cell_type": "code",
   "execution_count": 109,
   "metadata": {
    "scrolled": true
   },
   "outputs": [
    {
     "name": "stdout",
     "output_type": "stream",
     "text": [
      "0: 9\n",
      "1: 5\n",
      "2: 15\n",
      "3: 10\n",
      "4: 8\n",
      "5: -1\n",
      "6: -1\n",
      "7: 0\n",
      "8: 14\n",
      "9: -1\n",
      "10: 3\n",
      "11: 2\n",
      "12: -1\n",
      "13: 13\n",
      "14: -1\n",
      "15: -1\n",
      "16: 1\n",
      "17: -1\n",
      "18: 7\n",
      "19: 4\n",
      "20: 11\n",
      "21: -1\n",
      "22: 13\n",
      "23: -1\n",
      "24: 12\n",
      "25: -1\n",
      "26: 6\n",
      "27: -1\n",
      "28: -1\n",
      "29: 15\n",
      "30: 10\n",
      "31: 8\n",
      "32: -1\n",
      "33: -1\n",
      "34: 0\n",
      "35: 14\n",
      "36: -1\n",
      "37: 3\n",
      "38: 2\n",
      "39: -1\n",
      "40: 13\n",
      "41: -1\n",
      "42: 1\n",
      "43: -1\n",
      "44: 7\n",
      "45: 2\n",
      "46: -1\n",
      "47: 13\n",
      "48: -1\n",
      "49: 4\n",
      "50: 11\n",
      "51: -1\n",
      "52: 13\n",
      "53: -1\n",
      "54: 12\n",
      "55: -1\n",
      "56: 6\n",
      "57: -1\n",
      "58: -1\n",
      "59: -1\n",
      "60: -1\n",
      "61: -1\n",
      "62: -1\n",
      "63: -1\n",
      "64: -1\n",
      "65: -1\n",
      "66: -1\n",
      "67: -1\n"
     ]
    }
   ],
   "source": [
    "ll = l.split()\n",
    "for i in range(len(ll)):\n",
    "    print(\"{}: {}\".format(i, ll[i]))"
   ]
  },
  {
   "cell_type": "code",
   "execution_count": 19,
   "metadata": {},
   "outputs": [],
   "source": [
    "import re\n",
    "def is_shape_range_valid(s):\n",
    "    def count_bracket(ss):\n",
    "        return ss.count('(') + ss.count(')') + ss.count('[') + ss.count(']')\n",
    "    \n",
    "    \n",
    "    if count_bracket(s) >2:\n",
    "        return False\n",
    "    \n",
    "    if s[0] not in ['(', ')', '[', ']'] or s[-1] not in ['(', ')', '[', ']']:\n",
    "        if count_bracket(s) >0:\n",
    "            return False\n",
    "        \n",
    "    if re.search(r'[^a-zA-Z0-9_\\(\\)\\[\\],\\s]', s):\n",
    "        return False\n",
    "    \n",
    "    return True"
   ]
  },
  {
   "cell_type": "code",
   "execution_count": 3,
   "metadata": {},
   "outputs": [
    {
     "data": {
      "text/plain": [
       "0"
      ]
     },
     "execution_count": 3,
     "metadata": {},
     "output_type": "execute_result"
    }
   ],
   "source": [
    "'aaa'.count('abc')"
   ]
  },
  {
   "cell_type": "code",
   "execution_count": 21,
   "metadata": {},
   "outputs": [
    {
     "name": "stdout",
     "output_type": "stream",
     "text": [
      "False\n",
      "True\n",
      "True\n",
      "False\n"
     ]
    }
   ],
   "source": [
    "test = [\n",
    "    '[-rank(values), rank(values))',\n",
    "    '[batch, in_channels, height, width]',\n",
    "    'iw, ih, c_d',\n",
    "    '[shape] + ddd'\n",
    "]\n",
    "\n",
    "for s in test:\n",
    "    print(is_shape_range_valid(s))"
   ]
  },
  {
   "cell_type": "code",
   "execution_count": null,
   "metadata": {},
   "outputs": [],
   "source": []
  }
 ],
 "metadata": {
  "kernelspec": {
   "display_name": "Python 3",
   "language": "python",
   "name": "python3"
  },
  "language_info": {
   "codemirror_mode": {
    "name": "ipython",
    "version": 3
   },
   "file_extension": ".py",
   "mimetype": "text/x-python",
   "name": "python",
   "nbconvert_exporter": "python",
   "pygments_lexer": "ipython3",
   "version": "3.6.4"
  }
 },
 "nbformat": 4,
 "nbformat_minor": 2
}
