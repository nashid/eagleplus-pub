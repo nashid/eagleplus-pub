{
 "cells": [
  {
   "cell_type": "code",
   "execution_count": 331,
   "metadata": {},
   "outputs": [],
   "source": [
    "import sys\n",
    "sys.path.insert(0,'..')\n",
    "\n",
    "import os\n",
    "import yaml\n",
    "import re\n",
    "import os.path\n",
    "from os import path\n",
    "from parse_utils import *\n",
    "import csv\n",
    "\n",
    "def parse_html(url, class_=None, text=None):\n",
    "    req = requests.get(url)\n",
    "    soup = BeautifulSoup(req.text, 'lxml')\n",
    "    if class_!=None:\n",
    "        return soup.find_all(class_=class_)\n",
    "    elif text != None:\n",
    "        return soup.find_all(text)"
   ]
  },
  {
   "cell_type": "code",
   "execution_count": 343,
   "metadata": {},
   "outputs": [],
   "source": [
    "folder = './doc1.6_parsed/'\n",
    "files = get_file_list(folder)"
   ]
  },
  {
   "cell_type": "code",
   "execution_count": 340,
   "metadata": {},
   "outputs": [],
   "source": [
    "api_cnt = 0\n",
    "var_cnt = 0 \n",
    "with open('./stat/sequence_arg.csv', 'w', newline='') as file:\n",
    "    writer = csv.writer(file)\n",
    "    writer.writerow([ \"API\", \"url\", 'arg'])\n",
    "    for f in files:\n",
    "        detected = False \n",
    "        info = read_yaml(folder+f)\n",
    "        all_arg = info['inputs']['optional'] + info['inputs']['required']\n",
    "        for arg in all_arg:\n",
    "            if arg=='**kwargs':\n",
    "                continue\n",
    "            if arg[0]=='*':\n",
    "                writer.writerow([info['title'], info['link'], arg])\n",
    "                detected = True\n",
    "                var_cnt += 1\n",
    "        if detected:\n",
    "            api_cnt +=1"
   ]
  },
  {
   "cell_type": "code",
   "execution_count": 341,
   "metadata": {},
   "outputs": [
    {
     "name": "stdout",
     "output_type": "stream",
     "text": [
      "102\n",
      "102\n"
     ]
    }
   ],
   "source": [
    "print(api_cnt)\n",
    "print(var_cnt)"
   ]
  },
  {
   "cell_type": "code",
   "execution_count": 346,
   "metadata": {},
   "outputs": [],
   "source": [
    "with open('./stat/symbol_related.csv', 'w', newline='') as file:\n",
    "    writer = csv.writer(file)\n",
    "    writer.writerow([ \"API\", 'url', \"arg\", 'optional?', 'descp', 'doc_dtype'])\n",
    "    for f in files:\n",
    "        info = read_yaml(folder+f)\n",
    "        optional = ''\n",
    "        for arg in info['constraints']:\n",
    "            if arg in info['inputs']['required']:\n",
    "                optional= 'required'\n",
    "            else:\n",
    "                optional = 'optional'\n",
    "            if 'symbol' in str(info['constraints'][arg].get('doc_dtype')):\n",
    "                writer.writerow([info['title'], info['link'], arg, optional,  '', str(info['constraints'][arg].get('doc_dtype'))])\n",
    "            if 'symbol' in str(info['constraints'][arg].get('descp')):\n",
    "                writer.writerow([info['title'], info['link'], arg,optional, str(info['constraints'][arg].get('descp')), ''])\n"
   ]
  },
  {
   "cell_type": "code",
   "execution_count": null,
   "metadata": {},
   "outputs": [],
   "source": []
  }
 ],
 "metadata": {
  "kernelspec": {
   "display_name": "Env:crawler",
   "language": "python",
   "name": "crawler"
  },
  "language_info": {
   "codemirror_mode": {
    "name": "ipython",
    "version": 3
   },
   "file_extension": ".py",
   "mimetype": "text/x-python",
   "name": "python",
   "nbconvert_exporter": "python",
   "pygments_lexer": "ipython3",
   "version": "3.6.9"
  }
 },
 "nbformat": 4,
 "nbformat_minor": 2
}
