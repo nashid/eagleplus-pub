{
 "cells": [
  {
   "cell_type": "code",
   "execution_count": 1,
   "metadata": {},
   "outputs": [],
   "source": [
    "import csv\n",
    "from parse import *"
   ]
  },
  {
   "cell_type": "code",
   "execution_count": 19,
   "metadata": {},
   "outputs": [],
   "source": [
    "py_api = []\n",
    "py_class= []\n",
    "py_type =[]\n",
    "with open('/Users/danning/Desktop/deepflaw/DeepFlaw-Code/doc_analysis/pytorch/result/py_total.csv', newline='') as csvfile:\n",
    "    reader = csv.reader(csvfile, delimiter=',', quotechar='\"', quoting=csv.QUOTE_MINIMAL)\n",
    "    for row in reader:\n",
    "        py_class.append(row[0])\n",
    "        py_type.append(row[1])\n",
    "        py_api.append(row[2])\n",
    "py_api = py_api[1:]\n",
    "py_class = py_class[1:]\n",
    "py_type = py_type[1:]\n"
   ]
  },
  {
   "cell_type": "code",
   "execution_count": 20,
   "metadata": {},
   "outputs": [],
   "source": [
    "cpp_api = []\n",
    "cpp_type = []\n",
    "cpp_link = []\n",
    "with open('/Users/danning/Desktop/deepflaw/DeepFlaw-Code/doc_analysis/pytorch/result/cpp_api.csv', newline='') as csvfile:\n",
    "    reader = csv.reader(csvfile, delimiter=',', quotechar='\"', quoting=csv.QUOTE_MINIMAL)\n",
    "    for row in reader:\n",
    "        cpp_type.append(row[0])\n",
    "        cpp_api.append(row[1])\n",
    "        cpp_link.append(row[2])\n",
    "cpp_type = cpp_type[1:]\n",
    "cpp_api = cpp_api[1:]\n",
    "cpp_link = cpp_link[1:]"
   ]
  },
  {
   "cell_type": "code",
   "execution_count": 21,
   "metadata": {},
   "outputs": [],
   "source": [
    "def topythonstyle(title):\n",
    "    py_title = ''\n",
    "    prev = False\n",
    "    for i,c in enumerate(title):\n",
    "        if c.isupper():\n",
    "            \n",
    "            if i ==0 :\n",
    "                py_title+=c.lower()\n",
    "            elif i!=0 and prev==False:\n",
    "                #print('here')\n",
    "                py_title+='_'\n",
    "                py_title+=c.lower()\n",
    "            elif i!=0 and prev==True:\n",
    "                py_title+=c.lower()\n",
    "            \n",
    "            \n",
    "            prev = True\n",
    "        else:\n",
    "            py_title+=c\n",
    "            prev = False\n",
    "        \n",
    "    return py_title\n",
    "    "
   ]
  },
  {
   "cell_type": "code",
   "execution_count": 32,
   "metadata": {},
   "outputs": [],
   "source": [
    "cpp_api_clean = []\n",
    "cpp_py_style = []\n",
    "cpp_class_clean = ['']*len(cpp_api)\n",
    "cpp_class_py = ['']*len(cpp_api)\n",
    "for i,ca  in enumerate(cpp_api):\n",
    "    ct = ca.split('(')[0].split(':')[-1]\n",
    "    cpp_api_clean.append(ct)\n",
    "    cpp_py_style.append(topythonstyle(ct))\n",
    "    if cpp_type[i]=='Class':\n",
    "        cpp_class[i] = ct\n",
    "        cpp_class_py[i] = topythonstyle(ct)"
   ]
  },
  {
   "cell_type": "code",
   "execution_count": 45,
   "metadata": {},
   "outputs": [],
   "source": [
    "def find(l, e):\n",
    "    try: \n",
    "        return l.index(e)\n",
    "    except:\n",
    "        return -1"
   ]
  },
  {
   "cell_type": "code",
   "execution_count": 46,
   "metadata": {},
   "outputs": [],
   "source": [
    "def map_cpp(cppapi, cppapi_py, e):\n",
    "    if find(cppapi,e)==-1:\n",
    "        return find(cppapi_py,e)\n",
    "    else:\n",
    "        return find(cppapi,e)"
   ]
  },
  {
   "cell_type": "code",
   "execution_count": 77,
   "metadata": {},
   "outputs": [],
   "source": [
    "cnt = 0\n",
    "py_cpp_api = ['']*len(py_api)\n",
    "py_cpp_url = ['']*len(py_api)\n",
    "py_cpp_type = ['']*len(py_api)\n",
    "\n",
    "for i,pa  in enumerate(py_api):\n",
    "    \n",
    "    #map class\n",
    "    if py_type[i]=='class' and py_class[i]!='':\n",
    "        index = map_cpp(cpp_class,cpp_class_py, py_class[i].split('.')[-1].lower())\n",
    "\n",
    "            \n",
    "    else:\n",
    "        index = map_cpp(cpp_api_clean, cpp_py_style,pa.split('.')[-1].lower())\n",
    "\n",
    "        \n",
    "    if index!=-1:\n",
    "        cnt+=1\n",
    "        py_cpp_api[i] = cpp_api[index]\n",
    "        py_cpp_type[i] = cpp_type[index]\n",
    "        py_cpp_url[i] = cpp_link[index]\n",
    "    \n",
    "    "
   ]
  },
  {
   "cell_type": "code",
   "execution_count": 79,
   "metadata": {},
   "outputs": [],
   "source": [
    "with open('/Users/danning/Desktop/deepflaw/DeepFlaw-Code/doc_analysis/pytorch/result/py_api_map.csv', 'w', newline='') as csvfile:\n",
    "    csv_writer = csv.writer(csvfile, delimiter=',', quotechar='\"', quoting=csv.QUOTE_MINIMAL)\n",
    "    csv_writer.writerow(['py_class', 'py_type', 'py_api','cpp_api', 'cpp_type', 'cpp_link'])\n",
    "    for i in range(len(py_api)):\n",
    "        csv_writer.writerow([py_class[i], py_type[i], py_api[i], py_cpp_api[i], py_cpp_type[i], py_cpp_url[i]])"
   ]
  },
  {
   "cell_type": "code",
   "execution_count": 78,
   "metadata": {},
   "outputs": [
    {
     "data": {
      "text/plain": [
       "734"
      ]
     },
     "execution_count": 78,
     "metadata": {},
     "output_type": "execute_result"
    }
   ],
   "source": [
    "cnt"
   ]
  },
  {
   "cell_type": "code",
   "execution_count": 63,
   "metadata": {
    "scrolled": true
   },
   "outputs": [
    {
     "data": {
      "text/plain": [
       "1816"
      ]
     },
     "execution_count": 63,
     "metadata": {},
     "output_type": "execute_result"
    }
   ],
   "source": [
    "len(py_api)"
   ]
  },
  {
   "cell_type": "code",
   "execution_count": 64,
   "metadata": {},
   "outputs": [
    {
     "data": {
      "text/plain": [
       "2456"
      ]
     },
     "execution_count": 64,
     "metadata": {},
     "output_type": "execute_result"
    }
   ],
   "source": [
    "len(cpp_api)"
   ]
  },
  {
   "cell_type": "code",
   "execution_count": 66,
   "metadata": {},
   "outputs": [
    {
     "data": {
      "text/plain": [
       "1855"
      ]
     },
     "execution_count": 66,
     "metadata": {},
     "output_type": "execute_result"
    }
   ],
   "source": [
    "len(set(cpp_api_clean))"
   ]
  }
 ],
 "metadata": {
  "kernelspec": {
   "display_name": "Env:crawler",
   "language": "python",
   "name": "crawler"
  },
  "language_info": {
   "codemirror_mode": {
    "name": "ipython",
    "version": 3
   },
   "file_extension": ".py",
   "mimetype": "text/x-python",
   "name": "python",
   "nbconvert_exporter": "python",
   "pygments_lexer": "ipython3",
   "version": "3.6.9"
  }
 },
 "nbformat": 4,
 "nbformat_minor": 2
}
