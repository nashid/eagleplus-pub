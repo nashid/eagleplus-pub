{
 "cells": [
  {
   "cell_type": "code",
   "execution_count": 1,
   "metadata": {},
   "outputs": [],
   "source": [
    "import io\n",
    "\n",
    "import pandas as pd\n",
    "import numpy as np\n",
    "from bs4 import BeautifulSoup\n",
    "import requests\n",
    "import os\n",
    "import csv\n",
    "import re\n",
    "from parse import *\n",
    "import signal\n",
    "import csv"
   ]
  },
  {
   "cell_type": "code",
   "execution_count": 2,
   "metadata": {},
   "outputs": [],
   "source": [
    "def parse_html(url, class_=None, text=None):\n",
    "    req = requests.get(url)\n",
    "    soup = BeautifulSoup(req.text, 'lxml')\n",
    "    if class_!=None:\n",
    "        return soup.find_all(class_=class_)\n",
    "    elif text != None:\n",
    "        return soup.find_all(text)"
   ]
  },
  {
   "cell_type": "code",
   "execution_count": 3,
   "metadata": {},
   "outputs": [],
   "source": [
    "def signal_handler(signum, frame):\n",
    "    raise Exception(\"Timed out!\")\n"
   ]
  },
  {
   "cell_type": "code",
   "execution_count": 5,
   "metadata": {},
   "outputs": [],
   "source": [
    "url = 'https://pytorch.org/cppdocs/api/library_root.html'\n"
   ]
  },
  {
   "cell_type": "code",
   "execution_count": 60,
   "metadata": {},
   "outputs": [],
   "source": [
    "content = parse_html(url, class_ = 'toctree-wrapper compound')"
   ]
  },
  {
   "cell_type": "code",
   "execution_count": 95,
   "metadata": {},
   "outputs": [
    {
     "data": {
      "text/plain": [
       "[<a class=\"reference internal\" href=\"namespace_at__native.html\">Namespace at::native</a>,\n",
       " <a class=\"reference internal\" href=\"namespace_at__native.html#classes\">Classes</a>,\n",
       " <a class=\"reference internal\" href=\"namespace_at__native.html#functions\">Functions</a>,\n",
       " <a class=\"reference internal\" href=\"namespace_at__native.html#unions\">Unions</a>]"
      ]
     },
     "execution_count": 95,
     "metadata": {},
     "output_type": "execute_result"
    }
   ],
   "source": [
    "content[2]('a')"
   ]
  },
  {
   "cell_type": "code",
   "execution_count": 96,
   "metadata": {},
   "outputs": [
    {
     "data": {
      "text/plain": [
       "<a class=\"reference internal\" href=\"namespace_at__native.html\">Namespace at::native</a>"
      ]
     },
     "execution_count": 96,
     "metadata": {},
     "output_type": "execute_result"
    }
   ],
   "source": [
    "content[2]('a')[0]"
   ]
  },
  {
   "cell_type": "code",
   "execution_count": 97,
   "metadata": {},
   "outputs": [
    {
     "data": {
      "text/plain": [
       "'namespace_at__native.html'"
      ]
     },
     "execution_count": 97,
     "metadata": {},
     "output_type": "execute_result"
    }
   ],
   "source": [
    "content[2]('a')[0].get('href')"
   ]
  },
  {
   "cell_type": "code",
   "execution_count": 98,
   "metadata": {},
   "outputs": [
    {
     "data": {
      "text/plain": [
       "['Namespace at::native']"
      ]
     },
     "execution_count": 98,
     "metadata": {},
     "output_type": "execute_result"
    }
   ],
   "source": [
    "content[2]('a')[0].contents"
   ]
  },
  {
   "cell_type": "code",
   "execution_count": 133,
   "metadata": {},
   "outputs": [],
   "source": [
    "prefix_save = ['Function', 'Template Function', 'Class', 'Template Class', 'Struct',\\\n",
    "          'Template Struct' ,'Variable', 'Define', 'Typedef', 'Namespace', 'Enum', 'Union']\n",
    "\n",
    "prefix_check = ['Template Function', 'Template Class', 'Template Struct', \\\n",
    "                'Function', 'Class',  'Struct','Variable', 'Define', 'Typedef', 'Namespace', 'Enum', 'Union']"
   ]
  },
  {
   "cell_type": "code",
   "execution_count": 134,
   "metadata": {},
   "outputs": [],
   "source": [
    "result = {}\n",
    "for p in prefix_save:\n",
    "    result[p] = []"
   ]
  },
  {
   "cell_type": "code",
   "execution_count": 135,
   "metadata": {
    "scrolled": true
   },
   "outputs": [],
   "source": [
    "for c in content:\n",
    "    \n",
    "    name = c('a')[0].contents[0]\n",
    "    href = c('a')[0].get('href')\n",
    "    saved = False\n",
    "    \n",
    "    for p in prefix_check:\n",
    "        if name.startswith(p):\n",
    "            func_name = name[len(p)+1:]\n",
    "            result[p].append({'Name':func_name, 'Link':url.replace('library_root.html', href)})\n",
    "            saved=True\n",
    "            break\n",
    "    if not saved:\n",
    "        print(\"exception \"+ name)"
   ]
  },
  {
   "cell_type": "code",
   "execution_count": 137,
   "metadata": {},
   "outputs": [],
   "source": [
    "with open('/Users/danning/Desktop/deepflaw/code/pytorch/cpp_api.csv', 'w', newline='') as csvfile:\n",
    "    csv_writer = csv.writer(csvfile, delimiter=',', quotechar='\"', quoting=csv.QUOTE_MINIMAL)\n",
    "    csv_writer.writerow(['API_TYPE', 'NAME', 'LINK'])\n",
    "    for p in prefix_save:\n",
    "        for rp in result[p]:\n",
    "            csv_writer.writerow([p, rp['Name'], rp['Link']])"
   ]
  },
  {
   "cell_type": "code",
   "execution_count": null,
   "metadata": {},
   "outputs": [],
   "source": []
  }
 ],
 "metadata": {
  "kernelspec": {
   "display_name": "Env:crawler",
   "language": "python",
   "name": "crawler"
  },
  "language_info": {
   "codemirror_mode": {
    "name": "ipython",
    "version": 3
   },
   "file_extension": ".py",
   "mimetype": "text/x-python",
   "name": "python",
   "nbconvert_exporter": "python",
   "pygments_lexer": "ipython3",
   "version": "3.6.9"
  }
 },
 "nbformat": 4,
 "nbformat_minor": 2
}
