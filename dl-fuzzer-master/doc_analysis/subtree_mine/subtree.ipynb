{
 "cells": [
  {
   "cell_type": "code",
   "execution_count": 1,
   "metadata": {},
   "outputs": [],
   "source": [
    "from nltk.tree import Tree\n",
    "from nltk.parse.corenlp import CoreNLPParser\n",
    "\n",
    "import ast\n",
    "\n",
    "from itertools import groupby "
   ]
  },
  {
   "cell_type": "code",
   "execution_count": 2,
   "metadata": {},
   "outputs": [],
   "source": [
    "nlp_parser = CoreNLPParser(url='http://localhost:9000')\n"
   ]
  },
  {
   "cell_type": "code",
   "execution_count": 37,
   "metadata": {},
   "outputs": [],
   "source": [
    "# We have three functions as below;\n",
    "# (1) find_common_subwords(sen1, sen2);\n",
    "# sen1 : a first sentence; string\n",
    "# sen2 : a second sentence; string\n",
    "# return: the list of sub-words\n",
    "def find_common_subwords(sen1, sen2):\n",
    "    \n",
    "    parse, = nlp_parser.raw_parse(sen1)\n",
    "    s1 = Tree(\"ROOT\", parse)\n",
    "    \n",
    "    parse, = nlp_parser.raw_parse(sen2)\n",
    "    s2 = Tree(\"ROOT\", parse)\n",
    "    \n",
    "    words_list = []\n",
    "\n",
    "    for path in find_common_paths(sub_path_mining(s1), sub_path_mining(s2)):\n",
    "        words_list.append(ast.literal_eval(path)[1])\n",
    "        words_list.append(ast.literal_eval(path)[-2])\n",
    "\n",
    "    return list(set(words_list))"
   ]
  },
  {
   "cell_type": "code",
   "execution_count": 38,
   "metadata": {},
   "outputs": [],
   "source": [
    "# (2) find_common_paths(s1, s2);\n",
    "# s1: a tree of the first sentence ( tree is returned by nlp_parser.raw_parse() )\n",
    "# s2; a tree of the second sentence\n",
    "# the list of all common paths between two sentences\n",
    "def find_common_paths (s1, s2):\n",
    "    l1 = []\n",
    "    l2 = []\n",
    "    \n",
    "    def preprocess_path(path):\n",
    "        for i in range(len(path)):\n",
    "            if 3 == len(path[i]):\n",
    "                path[i] = (path[i])[:2]\n",
    "                \n",
    "        \n",
    "        return (path)\n",
    "    \n",
    "    def elem_consecutive_dups(path):\n",
    "        return [x[0] for x in groupby(path)]\n",
    "        \n",
    "    for i in range(len(s1)):\n",
    "        if \"_leaf_\" == (s1[i])[-1]:\n",
    "            l1.append (str(elem_consecutive_dups(preprocess_path(s1[i]))))\n",
    "        \n",
    "    for i in range(len(s2)):\n",
    "        if \"_leaf_\" == (s2[i])[-1]:\n",
    "            # to check reverse as well\n",
    "            l2.append (str(elem_consecutive_dups(preprocess_path(s2[i]))))\n",
    "            \n",
    "            temp_path = elem_consecutive_dups(preprocess_path(s2[i]))\n",
    "            temp_path.reverse()\n",
    "            l2.append (str(temp_path))\n",
    "            \n",
    "    return set(l1).intersection(l2)"
   ]
  },
  {
   "cell_type": "code",
   "execution_count": 39,
   "metadata": {},
   "outputs": [],
   "source": [
    "# (3) sub_path_mining(tree):\n",
    "# tree: a tree represented sentence\n",
    "# return: all paths of all pairs of words (i.e., if sentence has n words, # of paths will be n(n-1)/2 )/\n",
    "def sub_path_mining(tree):\n",
    "    \n",
    "    l = []\n",
    "    \n",
    "    # leaf node\n",
    "    if str == type(tree) :\n",
    "        \n",
    "        # make a length-1 path and start building (a)\n",
    "        return ([[\"_leaf_\", tree]])\n",
    "    \n",
    "    # have a single child tree\n",
    "    elif 1 == len(tree):\n",
    "        for path in sub_path_mining(tree[0]):\n",
    "            if \"_leaf_\" != path[-1]:\n",
    "                # add this label and half_path keeps growing (b)\n",
    "                l.append(path + [tree.label()])\n",
    "                \n",
    "            else :\n",
    "                # if full path found, just keep it (c)\n",
    "                l.append(path)\n",
    "                \n",
    "    # have mulitple child nodes\n",
    "    else :\n",
    "        for i in range(len(tree)):\n",
    "            for path_1 in sub_path_mining(tree[i]):\n",
    "                \n",
    "                # path_1 is fully formed path, just add and continue (d)\n",
    "                if \"_leaf_\" == path_1[-1] :\n",
    "                    l.append(path_1)\n",
    "                    continue\n",
    "                \n",
    "    \n",
    "                l.append(path_1 + [tree.label()])\n",
    "                \n",
    "                for j in range(i+1, len(tree)):\n",
    "                    for path_2 in sub_path_mining(tree[j]):\n",
    "\n",
    "                        # if path_2 is a full path, it should have been already added by (d), (e)\n",
    "                        if \"_leaf_\" != path_2[-1] :\n",
    "                            path_2.reverse()\n",
    "                            \n",
    "                            # construct half_path + half_path and build a full path (f)\n",
    "                            l.append(path_1 + [tree.label()] + path_2)\n",
    "                        \n",
    "    return (l)\n"
   ]
  },
  {
   "cell_type": "code",
   "execution_count": 40,
   "metadata": {},
   "outputs": [],
   "source": [
    "s1 = 'A D_STRUCTURE of type D_TYPE'\n",
    "s2 = 'A CONSTANT_NUM D D_STRUCTURE of type D_TYPE'"
   ]
  },
  {
   "cell_type": "code",
   "execution_count": 35,
   "metadata": {},
   "outputs": [
    {
     "data": {
      "text/plain": [
       "[]"
      ]
     },
     "execution_count": 35,
     "metadata": {},
     "output_type": "execute_result"
    }
   ],
   "source": [
    "find_common_subwords(s1, s2)"
   ]
  },
  {
   "cell_type": "code",
   "execution_count": 44,
   "metadata": {},
   "outputs": [],
   "source": [
    "tree1 = nlp_parser.raw_parse(s1)\n",
    "tree2 = nlp_parser.raw_parse(s2)\n",
    "\n",
    "t1 = Tree(\"ROOT\", tree1)\n",
    "t2 = Tree(\"ROOT\", tree2)"
   ]
  },
  {
   "cell_type": "code",
   "execution_count": 64,
   "metadata": {},
   "outputs": [
    {
     "data": {
      "image/png": "[encoded data removed]",
      "text/plain": [
       "Tree('ROOT', [Tree('ROOT', [Tree('NP', [Tree('NP', [Tree('DT', ['A']), Tree('NN', ['CONSTANT_NUM'])]), Tree('NP', [Tree('NP', [Tree('NN', ['D']), Tree('NN', ['D_STRUCTURE'])]), Tree('PP', [Tree('IN', ['of']), Tree('NP', [Tree('NN', ['type']), Tree('NN', ['D_TYPE'])])])])])])])"
      ]
     },
     "execution_count": 64,
     "metadata": {},
     "output_type": "execute_result"
    }
   ],
   "source": [
    "t2"
   ]
  },
  {
   "cell_type": "code",
   "execution_count": 26,
   "metadata": {},
   "outputs": [
    {
     "data": {
      "text/plain": [
       "set()"
      ]
     },
     "execution_count": 26,
     "metadata": {},
     "output_type": "execute_result"
    }
   ],
   "source": [
    "find_common_paths(sub_path_mining(s1), sub_path_mining(s2))"
   ]
  },
  {
   "cell_type": "code",
   "execution_count": 41,
   "metadata": {},
   "outputs": [
    {
     "data": {
      "text/plain": [
       "['of', 'probability']"
      ]
     },
     "execution_count": 41,
     "metadata": {},
     "output_type": "execute_result"
    }
   ],
   "source": [
    "find_common_subwords(\"probability of an element to be zeroed\", \\\n",
    "                     \"The ground-truth probability of the random value fall in a specific bucket\")"
   ]
  },
  {
   "cell_type": "code",
   "execution_count": 49,
   "metadata": {
    "collapsed": true
   },
   "outputs": [
    {
     "data": {
      "text/plain": [
       "[['_leaf_', 'A', 'DT', 'NP', 'NP', 'ROOT', 'ROOT'],\n",
       " ['_leaf_', 'A', 'DT', 'NP', 'NP', 'NP', 'NP', 'NN', 'D', '_leaf_'],\n",
       " ['_leaf_', 'A', 'DT', 'NP', 'NP', 'NP', 'NP', 'NN', 'D_STRUCTURE', '_leaf_'],\n",
       " ['_leaf_', 'A', 'DT', 'NP', 'NP', 'NP', 'PP', 'IN', 'of', '_leaf_'],\n",
       " ['_leaf_', 'A', 'DT', 'NP', 'NP', 'NP', 'PP', 'NP', 'NN', 'type', '_leaf_'],\n",
       " ['_leaf_', 'A', 'DT', 'NP', 'NP', 'NP', 'PP', 'NP', 'NN', 'D_TYPE', '_leaf_'],\n",
       " ['_leaf_', 'A', 'DT', 'NP', 'NN', 'CONSTANT_NUM', '_leaf_'],\n",
       " ['_leaf_', 'CONSTANT_NUM', 'NN', 'NP', 'NP', 'ROOT', 'ROOT'],\n",
       " ['_leaf_', 'CONSTANT_NUM', 'NN', 'NP', 'NP', 'NP', 'NP', 'NN', 'D', '_leaf_'],\n",
       " ['_leaf_',\n",
       "  'CONSTANT_NUM',\n",
       "  'NN',\n",
       "  'NP',\n",
       "  'NP',\n",
       "  'NP',\n",
       "  'NP',\n",
       "  'NN',\n",
       "  'D_STRUCTURE',\n",
       "  '_leaf_'],\n",
       " ['_leaf_',\n",
       "  'CONSTANT_NUM',\n",
       "  'NN',\n",
       "  'NP',\n",
       "  'NP',\n",
       "  'NP',\n",
       "  'PP',\n",
       "  'IN',\n",
       "  'of',\n",
       "  '_leaf_'],\n",
       " ['_leaf_',\n",
       "  'CONSTANT_NUM',\n",
       "  'NN',\n",
       "  'NP',\n",
       "  'NP',\n",
       "  'NP',\n",
       "  'PP',\n",
       "  'NP',\n",
       "  'NN',\n",
       "  'type',\n",
       "  '_leaf_'],\n",
       " ['_leaf_',\n",
       "  'CONSTANT_NUM',\n",
       "  'NN',\n",
       "  'NP',\n",
       "  'NP',\n",
       "  'NP',\n",
       "  'PP',\n",
       "  'NP',\n",
       "  'NN',\n",
       "  'D_TYPE',\n",
       "  '_leaf_'],\n",
       " ['_leaf_', 'D', 'NN', 'NP', 'NP', 'NP', 'ROOT', 'ROOT'],\n",
       " ['_leaf_', 'D', 'NN', 'NP', 'NP', 'PP', 'IN', 'of', '_leaf_'],\n",
       " ['_leaf_', 'D', 'NN', 'NP', 'NP', 'PP', 'NP', 'NN', 'type', '_leaf_'],\n",
       " ['_leaf_', 'D', 'NN', 'NP', 'NP', 'PP', 'NP', 'NN', 'D_TYPE', '_leaf_'],\n",
       " ['_leaf_', 'D', 'NN', 'NP', 'NN', 'D_STRUCTURE', '_leaf_'],\n",
       " ['_leaf_', 'D_STRUCTURE', 'NN', 'NP', 'NP', 'NP', 'ROOT', 'ROOT'],\n",
       " ['_leaf_', 'D_STRUCTURE', 'NN', 'NP', 'NP', 'PP', 'IN', 'of', '_leaf_'],\n",
       " ['_leaf_',\n",
       "  'D_STRUCTURE',\n",
       "  'NN',\n",
       "  'NP',\n",
       "  'NP',\n",
       "  'PP',\n",
       "  'NP',\n",
       "  'NN',\n",
       "  'type',\n",
       "  '_leaf_'],\n",
       " ['_leaf_',\n",
       "  'D_STRUCTURE',\n",
       "  'NN',\n",
       "  'NP',\n",
       "  'NP',\n",
       "  'PP',\n",
       "  'NP',\n",
       "  'NN',\n",
       "  'D_TYPE',\n",
       "  '_leaf_'],\n",
       " ['_leaf_', 'of', 'IN', 'PP', 'NP', 'NP', 'ROOT', 'ROOT'],\n",
       " ['_leaf_', 'of', 'IN', 'PP', 'NP', 'NN', 'type', '_leaf_'],\n",
       " ['_leaf_', 'of', 'IN', 'PP', 'NP', 'NN', 'D_TYPE', '_leaf_'],\n",
       " ['_leaf_', 'type', 'NN', 'NP', 'PP', 'NP', 'NP', 'ROOT', 'ROOT'],\n",
       " ['_leaf_', 'type', 'NN', 'NP', 'NN', 'D_TYPE', '_leaf_'],\n",
       " ['_leaf_', 'D_TYPE', 'NN', 'NP', 'PP', 'NP', 'NP', 'ROOT', 'ROOT']]"
      ]
     },
     "execution_count": 49,
     "metadata": {},
     "output_type": "execute_result"
    }
   ],
   "source": [
    "sub_path_mining(t2)"
   ]
  },
  {
   "cell_type": "code",
   "execution_count": 52,
   "metadata": {},
   "outputs": [],
   "source": [
    "common_path = find_common_paths(sub_path_mining(t1), sub_path_mining(t2))"
   ]
  },
  {
   "cell_type": "code",
   "execution_count": 59,
   "metadata": {},
   "outputs": [],
   "source": [
    "p0 = list(common_path)[0]"
   ]
  },
  {
   "cell_type": "code",
   "execution_count": 60,
   "metadata": {},
   "outputs": [
    {
     "data": {
      "text/plain": [
       "['_leaf_', 'D_STRUCTURE', 'NN', 'NP', 'PP', 'IN', 'of', '_leaf_']"
      ]
     },
     "execution_count": 60,
     "metadata": {},
     "output_type": "execute_result"
    }
   ],
   "source": [
    "ast.literal_eval(p0)"
   ]
  },
  {
   "cell_type": "code",
   "execution_count": 61,
   "metadata": {},
   "outputs": [
    {
     "data": {
      "text/plain": [
       "{\"['_leaf_', 'A', 'DT', 'NP', 'NN', 'D_STRUCTURE', '_leaf_']\",\n",
       " \"['_leaf_', 'A', 'DT', 'NP', 'PP', 'IN', 'of', '_leaf_']\",\n",
       " \"['_leaf_', 'A', 'DT', 'NP', 'PP', 'NP', 'NN', 'D_TYPE', '_leaf_']\",\n",
       " \"['_leaf_', 'A', 'DT', 'NP', 'PP', 'NP', 'NN', 'type', '_leaf_']\",\n",
       " \"['_leaf_', 'D_STRUCTURE', 'NN', 'NP', 'PP', 'IN', 'of', '_leaf_']\",\n",
       " \"['_leaf_', 'D_STRUCTURE', 'NN', 'NP', 'PP', 'NP', 'NN', 'D_TYPE', '_leaf_']\",\n",
       " \"['_leaf_', 'D_STRUCTURE', 'NN', 'NP', 'PP', 'NP', 'NN', 'type', '_leaf_']\",\n",
       " \"['_leaf_', 'of', 'IN', 'PP', 'NP', 'NN', 'D_TYPE', '_leaf_']\",\n",
       " \"['_leaf_', 'of', 'IN', 'PP', 'NP', 'NN', 'type', '_leaf_']\",\n",
       " \"['_leaf_', 'type', 'NN', 'NP', 'NN', 'D_TYPE', '_leaf_']\"}"
      ]
     },
     "execution_count": 61,
     "metadata": {},
     "output_type": "execute_result"
    }
   ],
   "source": [
    "common_path"
   ]
  },
  {
   "cell_type": "code",
   "execution_count": 62,
   "metadata": {},
   "outputs": [
    {
     "data": {
      "text/plain": [
       "[['_leaf_', 'A', 'DT', 'NP', 'NP', 'ROOT', 'ROOT'],\n",
       " ['_leaf_', 'A', 'DT', 'NP', 'NP', 'PP', 'IN', 'of', '_leaf_'],\n",
       " ['_leaf_', 'A', 'DT', 'NP', 'NP', 'PP', 'NP', 'NN', 'type', '_leaf_'],\n",
       " ['_leaf_', 'A', 'DT', 'NP', 'NP', 'PP', 'NP', 'NN', 'D_TYPE', '_leaf_'],\n",
       " ['_leaf_', 'A', 'DT', 'NP', 'NN', 'D_STRUCTURE', '_leaf_'],\n",
       " ['_leaf_', 'D_STRUCTURE', 'NN', 'NP', 'NP', 'ROOT', 'ROOT'],\n",
       " ['_leaf_', 'D_STRUCTURE', 'NN', 'NP', 'NP', 'PP', 'IN', 'of', '_leaf_'],\n",
       " ['_leaf_',\n",
       "  'D_STRUCTURE',\n",
       "  'NN',\n",
       "  'NP',\n",
       "  'NP',\n",
       "  'PP',\n",
       "  'NP',\n",
       "  'NN',\n",
       "  'type',\n",
       "  '_leaf_'],\n",
       " ['_leaf_',\n",
       "  'D_STRUCTURE',\n",
       "  'NN',\n",
       "  'NP',\n",
       "  'NP',\n",
       "  'PP',\n",
       "  'NP',\n",
       "  'NN',\n",
       "  'D_TYPE',\n",
       "  '_leaf_'],\n",
       " ['_leaf_', 'of', 'IN', 'PP', 'NP', 'ROOT', 'ROOT'],\n",
       " ['_leaf_', 'of', 'IN', 'PP', 'NP', 'NN', 'type', '_leaf_'],\n",
       " ['_leaf_', 'of', 'IN', 'PP', 'NP', 'NN', 'D_TYPE', '_leaf_'],\n",
       " ['_leaf_', 'type', 'NN', 'NP', 'PP', 'NP', 'ROOT', 'ROOT'],\n",
       " ['_leaf_', 'type', 'NN', 'NP', 'NN', 'D_TYPE', '_leaf_'],\n",
       " ['_leaf_', 'D_TYPE', 'NN', 'NP', 'PP', 'NP', 'ROOT', 'ROOT']]"
      ]
     },
     "execution_count": 62,
     "metadata": {},
     "output_type": "execute_result"
    }
   ],
   "source": [
    "sub_path_mining(t1)"
   ]
  },
  {
   "cell_type": "code",
   "execution_count": null,
   "metadata": {},
   "outputs": [],
   "source": []
  }
 ],
 "metadata": {
  "kernelspec": {
   "display_name": "docterfuzz",
   "language": "python",
   "name": "docterfuzz"
  },
  "language_info": {
   "codemirror_mode": {
    "name": "ipython",
    "version": 3
   },
   "file_extension": ".py",
   "mimetype": "text/x-python",
   "name": "python",
   "nbconvert_exporter": "python",
   "pygments_lexer": "ipython3",
   "version": "3.6.9"
  }
 },
 "nbformat": 4,
 "nbformat_minor": 2
}
